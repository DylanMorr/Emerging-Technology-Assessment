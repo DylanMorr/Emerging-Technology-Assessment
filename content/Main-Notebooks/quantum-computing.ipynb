{
 "cells": [
  {
   "cell_type": "markdown",
   "metadata": {},
   "source": [
    "#  Quantum Computing\n",
    "\n",
    "<br>\n",
    "\n",
    "***"
   ]
  },
  {
   "cell_type": "markdown",
   "metadata": {},
   "source": [
    "## Introduction to Quantum Computing \n",
    "\n",
    "***"
   ]
  },
  {
   "cell_type": "markdown",
   "metadata": {},
   "source": [
    "In this notebook I am going to explore some of the ideas behind Quantum Computing, the topics I will look at are:\n",
    "1. What is Quantum Computing and what is it useful for?\n",
    "2. Quantum Gates\n",
    "3. Deutsch Algorithm\n",
    "4. Oracles and Random Oracles \n",
    "5. Qiskit\n",
    "6. Quantum Circuits"
   ]
  },
  {
   "cell_type": "markdown",
   "metadata": {},
   "source": [
    "***\n",
    "\n",
    "## What is Quantum Computing and what is it useful for?\n",
    "\n",
    "***"
   ]
  },
  {
   "cell_type": "markdown",
   "metadata": {},
   "source": [
    "Quantum computing is a type of computing that uses the quantum-mechanical phenomena. This includes using superposition and entanglement in order to perform operations on data. Quantum computers have the potential to solve problems at a much faster rate than classic computers, especially problems that involve searching through a lot of data or problems that generally require high computational power."
   ]
  },
  {
   "cell_type": "markdown",
   "metadata": {},
   "source": [
    "Here are some potential uses for Quantum Computers:\n",
    "- Optimizing financial portfolios\n",
    "- Modeling the behavior of molecules so we can design new drugs easier and faster\n",
    "- Searching large databases at an extremely fast rate\n",
    "- Optimizing supply chain logistics\n",
    "- Improving machine learning algorithms, which would result in development of more advance AI systems\n",
    "- Eventually being able to simulate the behavior of complex systems, such as the weather or even the human brain"
   ]
  },
  {
   "cell_type": "markdown",
   "metadata": {},
   "source": [
    "While these would all be amazing things to have, the fact is quantum computers are still in the very early stages of development. There are researchers working on building practical quantum computers and improving their capabilities with the hopes that these applications above could one day be reality. One of the major companies involved in quantum research and development is IBM.\n",
    "\n",
    "Ref - https://www.ibm.com/topics/quantum-computing"
   ]
  },
  {
   "cell_type": "markdown",
   "metadata": {},
   "source": [
    "***\n",
    "\n",
    "## Quantum Gates\n",
    "\n",
    "***"
   ]
  },
  {
   "cell_type": "markdown",
   "metadata": {},
   "source": []
  },
  {
   "cell_type": "markdown",
   "metadata": {},
   "source": [
    "***\n",
    "\n",
    "## Deutsch Algorithm\n",
    "\n",
    "***"
   ]
  },
  {
   "cell_type": "markdown",
   "metadata": {},
   "source": []
  },
  {
   "cell_type": "markdown",
   "metadata": {},
   "source": [
    "***\n",
    "\n",
    "## Oracles and Random Oracles\n",
    "\n",
    "***"
   ]
  },
  {
   "cell_type": "markdown",
   "metadata": {},
   "source": []
  },
  {
   "cell_type": "markdown",
   "metadata": {},
   "source": [
    "***\n",
    "\n",
    "## Qiskit\n",
    "\n",
    "***"
   ]
  },
  {
   "cell_type": "markdown",
   "metadata": {},
   "source": []
  },
  {
   "cell_type": "markdown",
   "metadata": {},
   "source": [
    "***\n",
    "\n",
    "## Quantum Circuits\n",
    "\n",
    "***"
   ]
  },
  {
   "cell_type": "markdown",
   "metadata": {},
   "source": []
  }
 ],
 "metadata": {
  "kernelspec": {
   "display_name": "Python 3 (ipykernel)",
   "language": "python",
   "name": "python3"
  },
  "language_info": {
   "codemirror_mode": {
    "name": "ipython",
    "version": 3
   },
   "file_extension": ".py",
   "mimetype": "text/x-python",
   "name": "python",
   "nbconvert_exporter": "python",
   "pygments_lexer": "ipython3",
   "version": "3.9.7"
  }
 },
 "nbformat": 4,
 "nbformat_minor": 4
}
