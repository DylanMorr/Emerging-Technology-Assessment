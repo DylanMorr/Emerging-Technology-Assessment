{
 "cells": [
  {
   "cell_type": "markdown",
   "metadata": {},
   "source": [
    "#  Quantum Computing\n",
    "\n",
    "<br>\n",
    "\n",
    "***"
   ]
  },
  {
   "cell_type": "markdown",
   "metadata": {},
   "source": [
    "## Introduction to Quantum Computing \n",
    "\n",
    "***"
   ]
  },
  {
   "cell_type": "markdown",
   "metadata": {},
   "source": [
    "In this notebook I am going to explore some of the ideas behind Quantum Computing, the topics I will look at are:\n",
    "1. What is Quantum Computing and what is it useful for?\n",
    "2. Quantum Gates\n",
    "3. Deutsch Algorithm\n",
    "4. Oracles and Random Oracles"
   ]
  },
  {
   "cell_type": "markdown",
   "metadata": {},
   "source": [
    "***\n",
    "\n",
    "## What is Quantum Computing and what is it useful for?\n",
    "\n",
    "***"
   ]
  },
  {
   "cell_type": "markdown",
   "metadata": {},
   "source": [
    "Quantum computing is a type of computing that uses the quantum-mechanical phenomena. This includes using superposition and entanglement in order to perform operations on data. Quantum computers have the potential to solve problems at a much faster rate than classic computers, especially problems that involve searching through a lot of data or problems that generally require high computational power."
   ]
  },
  {
   "cell_type": "markdown",
   "metadata": {},
   "source": [
    "Here are some potential uses for Quantum Computers:\n",
    "- Optimizing financial portfolios\n",
    "- Modeling the behavior of molecules so we can design new drugs easier and faster\n",
    "- Searching large databases at an extremely fast rate\n",
    "- Optimizing supply chain logistics\n",
    "- Improving machine learning algorithms, which would result in development of more advance AI systems\n",
    "- Eventually being able to simulate the behavior of complex systems, such as the weather or even the human brain"
   ]
  },
  {
   "cell_type": "markdown",
   "metadata": {},
   "source": [
    "While these would all be amazing things to have, the fact is quantum computers are still in the very early stages of development. There are researchers working on building practical quantum computers and improving their capabilities with the hopes that these applications above could one day be reality. One of the major companies involved in quantum research and development is IBM.\n",
    "\n",
    "Ref - https://www.ibm.com/topics/quantum-computing"
   ]
  },
  {
   "cell_type": "markdown",
   "metadata": {},
   "source": [
    "***\n",
    "\n",
    "## Quantum Gates\n",
    "\n",
    "***"
   ]
  },
  {
   "cell_type": "markdown",
   "metadata": {},
   "source": [
    "Quantum gates are what essentially makes up quantum circuits, which perform operations on quantum states. Quantum gates are analogous to classical gates, which perform operations on classic bits in classic computers. One notable thing about the quantum gates is that they are reversible unlike classic gates."
   ]
  },
  {
   "cell_type": "markdown",
   "metadata": {},
   "source": [
    "Quantum gates work on qubits. These are basically quantum classical bits. Much the same as classical bits qubits can be in one of two state known as \"0\" or \"1\". However the qubits can also put itself it a superposition of these states, this means it can operate in both states simultaneously. Quantum gates manipulate these states, allowing the circuits to perform far more complex operations than classical circuits."
   ]
  },
  {
   "cell_type": "markdown",
   "metadata": {},
   "source": [
    "There are many different types of quantum gates, these include single-qubit and multi-qubit gates. Single qubit gates operate like that name suggests, on a single qubit, meanwhile multi-qubit gates can operate on two or more qubits at the same time."
   ]
  },
  {
   "cell_type": "markdown",
   "metadata": {},
   "source": [
    "Some examples of quantum gates are the Pauli X, Y, Z gates and the Hadamard gate."
   ]
  },
  {
   "cell_type": "markdown",
   "metadata": {},
   "source": [
    "Ref - https://en.wikipedia.org/wiki/Quantum_logic_gate"
   ]
  },
  {
   "cell_type": "markdown",
   "metadata": {},
   "source": [
    "### Examples of Quantum Gates using Qiskit"
   ]
  },
  {
   "cell_type": "markdown",
   "metadata": {},
   "source": [
    "##### X Gate Example\n",
    "The X gate, also known as the NOT gate is a quantum gate that flips the state of a qubit. If the qubit is in the state |0>, the X gate will flip it to the state |1>, and if it is in the state |1>, the X gate will flip it to the state |0>."
   ]
  },
  {
   "cell_type": "code",
   "execution_count": 1,
   "metadata": {},
   "outputs": [],
   "source": [
    "# if the following gate examples don't show this may be because qiskit or pylatexenc is not installed\n",
    "# if this is the case uncomment these and restart and run the kernal\n",
    "#!pip install qiskit\n",
    "#!pip install pylatexenc\n"
   ]
  },
  {
   "cell_type": "code",
   "execution_count": 2,
   "metadata": {},
   "outputs": [],
   "source": [
    "# Quantum Circuits and Simulators.\n",
    "import qiskit\n",
    "\n",
    "# Qiskit Visualisation.\n",
    "import qiskit.visualization as viz"
   ]
  },
  {
   "cell_type": "code",
   "execution_count": 3,
   "metadata": {},
   "outputs": [
    {
     "data": {
      "image/png": "[encoded data removed]",
      "text/plain": [
       "<Figure size 193.726x144.48 with 1 Axes>"
      ]
     },
     "execution_count": 3,
     "metadata": {},
     "output_type": "execute_result"
    }
   ],
   "source": [
    "# Create a circuit.\n",
    "circuit = qiskit.QuantumCircuit(1, 1)\n",
    "\n",
    "# Add a gate.\n",
    "circuit.x(0)\n",
    "\n",
    "# Measure.\n",
    "circuit.measure(0, 0)\n",
    "\n",
    "# Draw the circuit\n",
    "circuit.draw(output='mpl')"
   ]
  },
  {
   "cell_type": "code",
   "execution_count": 4,
   "metadata": {},
   "outputs": [
    {
     "data": {
      "image/png": "[encoded data removed]",
      "text/plain": [
       "<Figure size 216x216 with 1 Axes>"
      ]
     },
     "execution_count": 4,
     "metadata": {},
     "output_type": "execute_result"
    }
   ],
   "source": [
    "# Get a simulator.\n",
    "sim = qiskit.Aer.get_backend('aer_simulator')\n",
    "\n",
    "# Simulte the circuit.\n",
    "result = sim.run(circuit).result().get_counts()\n",
    "\n",
    "# Histogram.\n",
    "viz.plot_histogram(result, figsize=(3, 3))"
   ]
  },
  {
   "cell_type": "markdown",
   "metadata": {},
   "source": [
    "##### Y Gate Example\n",
    "The Y gate is responsible for rotating a qubit state around the Y-axis in the Bloch sphere. The Y gate does this by flipping the phase of the |0> state relative to the |1> state. If the qubit is in state |0>, the Y gate will rotate it to state (|0> + i|1>)/√2, and if it is in state |1>, the Y gate will rotate it to state (|0> - i|1>)/√2."
   ]
  },
  {
   "cell_type": "code",
   "execution_count": 5,
   "metadata": {},
   "outputs": [
    {
     "data": {
      "image/png": "[encoded data removed]",
      "text/plain": [
       "<Figure size 193.726x144.48 with 1 Axes>"
      ]
     },
     "execution_count": 5,
     "metadata": {},
     "output_type": "execute_result"
    }
   ],
   "source": [
    "# Create a circuit.\n",
    "circuit = qiskit.QuantumCircuit(1, 1)\n",
    "\n",
    "# Add a gate.\n",
    "circuit.y(0)\n",
    "\n",
    "# Measure.\n",
    "circuit.measure(0, 0)\n",
    "\n",
    "# Draw the circuit\n",
    "circuit.draw(output='mpl')"
   ]
  },
  {
   "cell_type": "code",
   "execution_count": 6,
   "metadata": {},
   "outputs": [
    {
     "data": {
      "image/png": "[encoded data removed]",
      "text/plain": [
       "<Figure size 216x216 with 1 Axes>"
      ]
     },
     "execution_count": 6,
     "metadata": {},
     "output_type": "execute_result"
    }
   ],
   "source": [
    "# Get a simulator.\n",
    "sim = qiskit.Aer.get_backend('aer_simulator')\n",
    "\n",
    "# Simulte the circuit.\n",
    "result = sim.run(circuit).result().get_counts()\n",
    "\n",
    "# Histogram.\n",
    "viz.plot_histogram(result, figsize=(3, 3))"
   ]
  },
  {
   "cell_type": "markdown",
   "metadata": {},
   "source": [
    "##### Z Gate Example\n",
    "The Z gate is responsible for rotating a qubit state vector around the Z-axis in the Bloch sphere. The Z gate has the effect of flipping the phase of the |1> state relative to the |0> state. If the qubit is in the state |0>, the Z gate will leave it unchanged, and if it is in the state |1>, the Z gate will rotate it to the state -|1>."
   ]
  },
  {
   "cell_type": "code",
   "execution_count": 7,
   "metadata": {},
   "outputs": [
    {
     "data": {
      "image/png": "[encoded data removed]",
      "text/plain": [
       "<Figure size 193.726x144.48 with 1 Axes>"
      ]
     },
     "execution_count": 7,
     "metadata": {},
     "output_type": "execute_result"
    }
   ],
   "source": [
    "# Create a circuit.\n",
    "circuit = qiskit.QuantumCircuit(1, 1)\n",
    "\n",
    "# Add a gate.\n",
    "circuit.z(0)\n",
    "\n",
    "# Measure.\n",
    "circuit.measure(0, 0)\n",
    "\n",
    "# Draw the circuit\n",
    "circuit.draw(output='mpl')"
   ]
  },
  {
   "cell_type": "code",
   "execution_count": 8,
   "metadata": {},
   "outputs": [
    {
     "data": {
      "image/png": "[encoded data removed]",
      "text/plain": [
       "<Figure size 216x216 with 1 Axes>"
      ]
     },
     "execution_count": 8,
     "metadata": {},
     "output_type": "execute_result"
    }
   ],
   "source": [
    "# Get a simulator.\n",
    "sim = qiskit.Aer.get_backend('aer_simulator')\n",
    "\n",
    "# Simulate the circuit.\n",
    "\n",
    "result = sim.run(circuit).result().get_counts()\n",
    "\n",
    "# Histogram.\n",
    "viz.plot_histogram(result, figsize=(3, 3))"
   ]
  },
  {
   "cell_type": "markdown",
   "metadata": {},
   "source": [
    "Refs - https://github.com/ianmcloughlin/2223-S1-emerging-technologies/blob/main/notebooks/05-quantum-computing.ipynb\n",
    "https://en.wikipedia.org/wiki/Quantum_logic_gate#Pauli_gates_(X,Y,Z)"
   ]
  },
  {
   "cell_type": "markdown",
   "metadata": {},
   "source": [
    "***\n",
    "\n",
    "## Deutsch Algorithm\n",
    "\n",
    "***"
   ]
  },
  {
   "cell_type": "markdown",
   "metadata": {},
   "source": [
    "The Deutsch algorithm was invented by David Deutsch in 1985. It was a quantum algorithm that demonstrated the power that quantum computers could potentially have compared to classical computers. It is an example of a black box algorithm, this means that it will take a fucntions as an input and determine whether the function is balanced or constant, without even knowing what the function is for or how it is implemented."
   ]
  },
  {
   "cell_type": "markdown",
   "metadata": {},
   "source": [
    "The algorithm works like this:\n",
    "1. A function is inputted to the algorithm which takes a single bit and returns a single bit. The function can be either constant which means it will always return the same output or it could be balanced, which means it returns 0 half the time and 1 half the time.\n",
    "2. The algorithm goes into a quantum state called superposition, this state is a linear combination of all possible inputs to the function.\n",
    "3. The algorithm applies the function to the superposition using a quantum gate called the Oracle gate.\n",
    "4. The algorithm measures the output of the function to determine whether it is constant or balanced."
   ]
  },
  {
   "cell_type": "markdown",
   "metadata": {},
   "source": [
    "The Deutsch algorithm can determine if a function is constant or balanced in just one evaluation, compared to a classical computer that might require two evaluations in the worst case. This demonstrates the potential of quantum computers to perform certain tasks more efficiently than classical computers."
   ]
  },
  {
   "cell_type": "markdown",
   "metadata": {},
   "source": [
    "Ref - https://qiskit.org/textbook/ch-algorithms/deutsch-jozsa.html"
   ]
  },
  {
   "cell_type": "code",
   "execution_count": 9,
   "metadata": {},
   "outputs": [],
   "source": [
    "import random\n",
    "import itertools"
   ]
  },
  {
   "cell_type": "code",
   "execution_count": 10,
   "metadata": {},
   "outputs": [],
   "source": [
    "def f1(x):\n",
    "    if x == 0:\n",
    "        return 0\n",
    "    else:\n",
    "        return 0"
   ]
  },
  {
   "cell_type": "code",
   "execution_count": 11,
   "metadata": {},
   "outputs": [],
   "source": [
    "def f2(x):\n",
    "    if x == 0:\n",
    "        return 0\n",
    "    else:\n",
    "        return 1"
   ]
  },
  {
   "cell_type": "code",
   "execution_count": 12,
   "metadata": {},
   "outputs": [],
   "source": [
    "def f3(x):\n",
    "    if x == 0:\n",
    "        return 1\n",
    "    else:\n",
    "        return 0"
   ]
  },
  {
   "cell_type": "code",
   "execution_count": 13,
   "metadata": {},
   "outputs": [],
   "source": [
    "def f4(x):\n",
    "    if x == 0:\n",
    "        return 1\n",
    "    else:\n",
    "        return 1"
   ]
  },
  {
   "cell_type": "code",
   "execution_count": 14,
   "metadata": {},
   "outputs": [],
   "source": [
    "L = [f1, f2, f3, f4]"
   ]
  },
  {
   "cell_type": "code",
   "execution_count": 15,
   "metadata": {},
   "outputs": [],
   "source": [
    "f = random.choice(L)"
   ]
  },
  {
   "cell_type": "code",
   "execution_count": 16,
   "metadata": {},
   "outputs": [
    {
     "data": {
      "text/plain": [
       "1"
      ]
     },
     "execution_count": 16,
     "metadata": {},
     "output_type": "execute_result"
    }
   ],
   "source": [
    "f(0)"
   ]
  },
  {
   "cell_type": "code",
   "execution_count": 17,
   "metadata": {},
   "outputs": [
    {
     "data": {
      "text/plain": [
       "1"
      ]
     },
     "execution_count": 17,
     "metadata": {},
     "output_type": "execute_result"
    }
   ],
   "source": [
    "f(1)"
   ]
  },
  {
   "cell_type": "code",
   "execution_count": 18,
   "metadata": {},
   "outputs": [
    {
     "data": {
      "text/plain": [
       "<function __main__.f4(x)>"
      ]
     },
     "execution_count": 18,
     "metadata": {},
     "output_type": "execute_result"
    }
   ],
   "source": [
    "f"
   ]
  },
  {
   "cell_type": "code",
   "execution_count": 19,
   "metadata": {},
   "outputs": [
    {
     "data": {
      "text/plain": [
       "[(0, 0, 0),\n",
       " (0, 0, 1),\n",
       " (0, 1, 0),\n",
       " (0, 1, 1),\n",
       " (1, 0, 0),\n",
       " (1, 0, 1),\n",
       " (1, 1, 0),\n",
       " (1, 1, 1)]"
      ]
     },
     "execution_count": 19,
     "metadata": {},
     "output_type": "execute_result"
    }
   ],
   "source": [
    "list(itertools.product([0,1], repeat=3))"
   ]
  },
  {
   "cell_type": "code",
   "execution_count": 20,
   "metadata": {},
   "outputs": [
    {
     "data": {
      "text/plain": [
       "[(0, 0), (0, 1), (1, 0), (1, 1)]"
      ]
     },
     "execution_count": 20,
     "metadata": {},
     "output_type": "execute_result"
    }
   ],
   "source": [
    "list(itertools.product([0,1], repeat=2))"
   ]
  },
  {
   "cell_type": "code",
   "execution_count": 21,
   "metadata": {},
   "outputs": [],
   "source": [
    "def random_f():\n",
    "    possible_Ls = list(itertools.product([0,1], repeat=2))\n",
    "    L = random.choice(possible_Ls)\n",
    "    def f(x):\n",
    "        return L[x]\n",
    "    return f"
   ]
  },
  {
   "cell_type": "code",
   "execution_count": 22,
   "metadata": {},
   "outputs": [],
   "source": [
    "f = random_f()"
   ]
  },
  {
   "cell_type": "code",
   "execution_count": 23,
   "metadata": {},
   "outputs": [
    {
     "data": {
      "text/plain": [
       "0"
      ]
     },
     "execution_count": 23,
     "metadata": {},
     "output_type": "execute_result"
    }
   ],
   "source": [
    "f(0)"
   ]
  },
  {
   "cell_type": "code",
   "execution_count": 24,
   "metadata": {},
   "outputs": [
    {
     "data": {
      "text/plain": [
       "1"
      ]
     },
     "execution_count": 24,
     "metadata": {},
     "output_type": "execute_result"
    }
   ],
   "source": [
    "f(1)"
   ]
  },
  {
   "cell_type": "markdown",
   "metadata": {},
   "source": [
    "Ref - https://github.com/ianmcloughlin/2223-S1-emerging-technologies/blob/main/notebooks/05-quantum-computing.ipynb"
   ]
  },
  {
   "cell_type": "markdown",
   "metadata": {},
   "source": [
    "***\n",
    "\n",
    "## Oracles and Random Oracles\n",
    "\n",
    "***"
   ]
  },
  {
   "cell_type": "markdown",
   "metadata": {},
   "source": [
    "### Oracles"
   ]
  },
  {
   "cell_type": "markdown",
   "metadata": {},
   "source": [
    "An oracle is a subroutine that solves a problem or gives a result for a problem. Oracles are often used to answer questions or give answers to problems that are computationally difficult to solve."
   ]
  },
  {
   "cell_type": "markdown",
   "metadata": {},
   "source": [
    "There are many different types of oracles in quantum computing, some of these are:\n",
    "\n",
    "1. Decision oracles: These oracles determine whether a given statement or proposition is true or false.\n",
    "2. Function oracles: These oracles take an input and return a specific output, similar to a function in classical computing.\n",
    "3. Quantum oracles: These oracles are used to solve problems that are specific to quantum computing, such as finding the period of a function or solving the hidden subgroup problem."
   ]
  },
  {
   "cell_type": "markdown",
   "metadata": {},
   "source": [
    "Oracles are an important concept in quantum computing because they allow quantum algorithms to access and use information that is not directly accessible to the algorithm itself. This can be used to solve certain problems more efficiently than classical algorithms."
   ]
  },
  {
   "cell_type": "markdown",
   "metadata": {},
   "source": [
    "Refs - https://learn.microsoft.com/en-us/azure/quantum/concepts-oracles?view=qsharp-preview\n",
    "\n",
    "https://towardsdatascience.com/the-quantum-oracle-demystified-65e8ffebd5d5#:~:text=The%20quantum%20oracle%20is%20a,prepared%20it%20to%20result%20in."
   ]
  },
  {
   "cell_type": "code",
   "execution_count": 25,
   "metadata": {},
   "outputs": [],
   "source": [
    "# imports\n",
    "import qiskit\n",
    "import random"
   ]
  },
  {
   "cell_type": "code",
   "execution_count": 26,
   "metadata": {},
   "outputs": [],
   "source": [
    "# setup circuits\n",
    "f1 = qiskit.QuantumCircuit(2, 1)\n",
    "f2 = qiskit.QuantumCircuit(2, 1)\n",
    "f3 = qiskit.QuantumCircuit(2, 1)\n",
    "f4 = qiskit.QuantumCircuit(2, 1)"
   ]
  },
  {
   "cell_type": "code",
   "execution_count": 27,
   "metadata": {},
   "outputs": [
    {
     "data": {
      "image/png": "[encoded data removed]",
      "text/plain": [
       "<Figure size 267.052x204.68 with 1 Axes>"
      ]
     },
     "execution_count": 27,
     "metadata": {},
     "output_type": "execute_result"
    }
   ],
   "source": [
    "# setup top oracle\n",
    "top = qiskit.QuantumCircuit(2, 1)\n",
    "\n",
    "top.initialize((1, 0), 0)\n",
    "\n",
    "top.initialize((0, 1), 1)\n",
    "\n",
    "top.h((0, 1))\n",
    "\n",
    "top.barrier()\n",
    "\n",
    "top.draw(output='mpl')"
   ]
  },
  {
   "cell_type": "code",
   "execution_count": 28,
   "metadata": {},
   "outputs": [
    {
     "data": {
      "image/png": "[encoded data removed]",
      "text/plain": [
       "<Figure size 267.052x204.68 with 1 Axes>"
      ]
     },
     "execution_count": 28,
     "metadata": {},
     "output_type": "execute_result"
    }
   ],
   "source": [
    "# setup end oracle\n",
    "end = qiskit.QuantumCircuit(2, 1)\n",
    "\n",
    "end.barrier()\n",
    "\n",
    "end.h(0)\n",
    "\n",
    "end.measure(0, 0)\n",
    "\n",
    "end.draw(output='mpl')"
   ]
  },
  {
   "cell_type": "markdown",
   "metadata": {},
   "source": [
    "Ref -  https://github.com/ianmcloughlin/2223-S1-emerging-technologies/blob/main/notebooks/05-quantum-computing.ipynb"
   ]
  },
  {
   "cell_type": "markdown",
   "metadata": {},
   "source": [
    "### Random Oracles"
   ]
  },
  {
   "cell_type": "markdown",
   "metadata": {},
   "source": [
    "The random oracle is a theoretical construct that acts like a black box, takes in inputs and produces random outputs. Random oracles are often used in the study of algorithms and protocols to model the behavior of a \"true\" random number generator."
   ]
  },
  {
   "cell_type": "markdown",
   "metadata": {},
   "source": [
    "In the context of quantum computing, random oracles can be used to model the behavior of a quantum system that is difficult to predict or control. They can also be used to model the behavior of certain cryptographic protocols, such as those that rely on the hardness of certain mathematical problems to provide security."
   ]
  },
  {
   "cell_type": "markdown",
   "metadata": {},
   "source": [
    "Because the random oracle is a theoretical construct, it does not exist in the real world and cannot be directly implemented in a quantum computer. However, it can be used as a useful tool for understanding the behavior of algorithms and protocols."
   ]
  },
  {
   "cell_type": "markdown",
   "metadata": {},
   "source": [
    "Ref - https://en.wikipedia.org/wiki/Random_oracle"
   ]
  },
  {
   "cell_type": "code",
   "execution_count": 29,
   "metadata": {},
   "outputs": [],
   "source": [
    "oracles = [f1, f2, f3, f4]\n",
    "\n",
    "oracle = random.choice(oracles)"
   ]
  },
  {
   "cell_type": "code",
   "execution_count": 30,
   "metadata": {},
   "outputs": [
    {
     "name": "stderr",
     "output_type": "stream",
     "text": [
      "C:\\Users\\dylan\\AppData\\Local\\Temp/ipykernel_28324/1246211029.py:1: DeprecationWarning: The QuantumCircuit.__add__() method is being deprecated.Use the compose() method which is more flexible w.r.t circuit register compatibility.\n",
      "  circuit = top + oracle + end\n"
     ]
    },
    {
     "data": {
      "image/png": "[encoded data removed]",
      "text/plain": [
       "<Figure size 447.652x204.68 with 1 Axes>"
      ]
     },
     "execution_count": 30,
     "metadata": {},
     "output_type": "execute_result"
    }
   ],
   "source": [
    "circuit = top + oracle + end\n",
    "\n",
    "circuit.draw(output='mpl')"
   ]
  },
  {
   "cell_type": "code",
   "execution_count": 31,
   "metadata": {},
   "outputs": [
    {
     "name": "stdout",
     "output_type": "stream",
     "text": [
      "{'0': 1024}\n"
     ]
    }
   ],
   "source": [
    "sim = qiskit.Aer.get_backend('aer_simulator')\n",
    "\n",
    "result = sim.run(circuit).result().get_counts()\n",
    "\n",
    "print(result)"
   ]
  },
  {
   "cell_type": "code",
   "execution_count": 32,
   "metadata": {},
   "outputs": [
    {
     "name": "stdout",
     "output_type": "stream",
     "text": [
      "Constant\n"
     ]
    }
   ],
   "source": [
    "if '1' in result:\n",
    "    print('Balanced')\n",
    "else:\n",
    "    print('Constant')"
   ]
  },
  {
   "cell_type": "markdown",
   "metadata": {},
   "source": [
    "Ref -  https://github.com/ianmcloughlin/2223-S1-emerging-technologies/blob/main/notebooks/05-quantum-computing.ipynb"
   ]
  },
  {
   "cell_type": "markdown",
   "metadata": {},
   "source": [
    "***\n",
    "\n",
    "## End of Notebook"
   ]
  }
 ],
 "metadata": {
  "kernelspec": {
   "display_name": "Python 3 (ipykernel)",
   "language": "python",
   "name": "python3"
  },
  "language_info": {
   "codemirror_mode": {
    "name": "ipython",
    "version": 3
   },
   "file_extension": ".py",
   "mimetype": "text/x-python",
   "name": "python",
   "nbconvert_exporter": "python",
   "pygments_lexer": "ipython3",
   "version": "3.9.7"
  }
 },
 "nbformat": 4,
 "nbformat_minor": 4
}
