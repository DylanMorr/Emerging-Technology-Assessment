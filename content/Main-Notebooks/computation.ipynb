{
 "cells": [
  {
   "cell_type": "markdown",
   "metadata": {},
   "source": [
    "# Computation\n",
    "\n",
    "<br>\n",
    "\n",
    "***"
   ]
  },
  {
   "cell_type": "markdown",
   "metadata": {},
   "source": [
    "## Introduction to Computation\n",
    "\n",
    "***"
   ]
  },
  {
   "cell_type": "markdown",
   "metadata": {},
   "source": [
    "In this notebook I am going to explore some computational problems. The topics I am going to discuss are:\n",
    "<ol>\n",
    "  <li>Matrix Multiplication</li>\n",
    "  <li>Growth Rates (Polynomial vs Exponential)</li>\n",
    "  <li>Big O Notation</li>\n",
    "  <li>Turing Machines</li>\n",
    "  <li>Exercise</li>\n",
    "</ol>"
   ]
  },
  {
   "cell_type": "markdown",
   "metadata": {},
   "source": [
    "***\n",
    "\n",
    "## Matrix Multiplication\n",
    "\n",
    "***"
   ]
  },
  {
   "cell_type": "markdown",
   "metadata": {},
   "source": [
    "Matrix multiplication is the process of taking two matrices and multiplying them together to get one matrix. This is done by multiplying the rows of one matrix to the columns of the other. There are a number of ways to do this in Python, we are going to look at using for loops and the Numpy package in order to do so."
   ]
  },
  {
   "cell_type": "markdown",
   "metadata": {},
   "source": [
    "For Loop Multiplication:\n",
    "- Using for loops for this operation is the simplest method but also can be not very practical if we were using a larger data set as inputs.\n",
    "- The nested for loops calculate the result by iterating through each row and column of the matrices  and summing the results."
   ]
  },
  {
   "cell_type": "code",
   "execution_count": 1,
   "metadata": {},
   "outputs": [
    {
     "name": "stdout",
     "output_type": "stream",
     "text": [
      "[[72, 106, 126], [66, 73, 95], [108, 159, 189]]\n"
     ]
    }
   ],
   "source": [
    "# Create two matrices 3x3 for multiplying\n",
    "matrix0 = [[6, 8, 2],\n",
    "           [5, 2, 7],\n",
    "           [9, 12, 3]]\n",
    "matrix1 = [[10, 4, 7], \n",
    "           [1, 9, 9], \n",
    "           [2, 5, 6]]\n",
    "\n",
    "result = [[0 for x in range(3)] for y in range(3)]\n",
    "\n",
    "# setup nested for loops for multiplying\n",
    "for i in range(len(matrix0)): \n",
    "    for j in range(len(matrix1[0])): \n",
    "        for k in range(len(matrix1)):\n",
    "\n",
    "            # Multiply the matrices together to get result\n",
    "            result[i][j] += matrix0[i][k] * matrix1[k][j]\n",
    "\n",
    "# Output the result\n",
    "print(result)"
   ]
  },
  {
   "cell_type": "markdown",
   "metadata": {},
   "source": [
    "Numpy Multiplication:\n",
    "- In this part I will demonstrate how the Numpy package can be utilised for matrix multiplication.\n",
    "- Numpy refers to multiplication as vectorization, it works by removing the need for the nested for loops which in turn speeds up the computation time of the program.\n",
    "- This package is more  suitable for larger data sets as it is much faster than the normal nested for loops.\n",
    "- There are two ways to get the result using Numpy as of Python 3.5, the first way is using the dot() method and the second is using the @ operator."
   ]
  },
  {
   "cell_type": "code",
   "execution_count": 5,
   "metadata": {},
   "outputs": [
    {
     "name": "stdout",
     "output_type": "stream",
     "text": [
      "[[ 85 109 121]\n",
      " [113 184  77]\n",
      " [ 31  59  36]]\n"
     ]
    }
   ],
   "source": [
    "# Import numpy package \n",
    "import numpy as np\n",
    "\n",
    "# setup two matrices\n",
    "matrix0 = ([10, 3, 9],[2 ,14, 7],[1, 2, 5])\n",
    "matrix1 = ([4, 1, 7],[6, 9, 2],[3, 8, 5])\n",
    "\n",
    "# first result to test the dot() method\n",
    "result1 = np.dot(matrix0, matrix1)\n",
    "\n",
    "# second result to test the @ operator \n",
    "# result2 = matrix0 @ matrix1 # doesn't seem to be supported \n",
    "\n",
    "# output both matrices\n",
    "print(result1)\n",
    "# print(result2)"
   ]
  },
  {
   "cell_type": "markdown",
   "metadata": {},
   "source": [
    " Ref - https://www.geeksforgeeks.org/multiplication-two-matrices-single-line-using-numpy-python/?ref=lbp"
   ]
  },
  {
   "cell_type": "markdown",
   "metadata": {},
   "source": [
    "#### Papers and Articles on Matrix Multiplication\n",
    "\n",
    "Many computational problems that we often look at are not fully resolved yet.\n",
    "When it comes to the matrix multiplication algorithms we are not even sure if it is computing as fast as is possible.\n",
    "See the following articles and papers for some insight on this topic:\n",
    "- Matrix Multiplication Inches Closer to Mythic Goal; Kevin Hartnett; Quanta magazine\n",
    "- Discovering faster matrix multiplication algorithms with reinforcement learning; Alhussein Fawzi, Matej Balog, Aja Huang, Thomas Hubert, Bernardino Romera-Paredes, Mohammadamin Barekatain, Alexander Novikov, Francisco J. R. Ruiz, Julian Schrittwieser, Grzegorz Swirszcz, David Silver, Demis Hassabis & Pushmeet Kohli; Nature\n",
    "- The FBHHRBNRSSSHK-Algorithm for Multiplication in Z25×5 is still not the end of the story; Manuel Kauers, Jakob Moosbauer; arXiv\n",
    "- A Refined Laser Method and Faster Matrix Multiplication; Josh Alman, Virginia Vassilevska Williams; arXiv\n",
    "\n",
    "https://github.com/ianmcloughlin/2223-S1-emerging-technologies/blob/main/notebooks/03-computation.ipynb"
   ]
  },
  {
   "cell_type": "markdown",
   "metadata": {},
   "source": [
    "***\n",
    "\n",
    "## Growth Rates (Polynomial vs Exponential)\n",
    "\n",
    "***"
   ]
  },
  {
   "cell_type": "markdown",
   "metadata": {},
   "source": [
    "In computation growth rate refers to how fast a process increases over time, this can lead us to look at time complexity.\n",
    "Time complexity of algorithms can be broken up into different types, e.g. constant, linear, polynomial, and exponential.\n",
    "The two most popular ones out of these are polynomial and exponential."
   ]
  },
  {
   "cell_type": "markdown",
   "metadata": {},
   "source": [
    "Running Time of Polynomial Time Complexity\n",
    "- Polynomial time algorithms are when the steps required to completion are O(n^k) where k is a non-negative integer and n is the inputs complexity.\n",
    "- Algorithms that are in polynomial time are \"fast\".\n",
    "- Standard mathematical operations like adding, subtracting, multiplying, and dividing would all be completed in polynomial time. "
   ]
  },
  {
   "cell_type": "markdown",
   "metadata": {},
   "source": [
    "Running Time of Exponential Time Complexity\n",
    "- An algorithm is bound to run in exponential time if  \"T(n) is upper bounded by 2^poly(n), where poly(n) is some polynomial in n\".\n",
    "- Another way of writing this is T(n) is bounded by O(2^nk) with k being some constant.\n",
    "- Exponential time algorithms grow way faster than algorithms in polynomial time.\n",
    "\n",
    "https://www.superwits.com/library/design-analysis-of-algorithm/course-content-daa/polynomialvsexponentialrunningtime"
   ]
  },
  {
   "cell_type": "markdown",
   "metadata": {},
   "source": [
    "The figure below plots a diagram that shows both exponential and polynomial growth."
   ]
  },
  {
   "cell_type": "code",
   "execution_count": 1,
   "metadata": {},
   "outputs": [
    {
     "data": {
      "image/png": "[encoded data removed]",
      "text/plain": [
       "<Figure size 864x432 with 1 Axes>"
      ]
     },
     "metadata": {
      "needs_background": "light"
     },
     "output_type": "display_data"
    }
   ],
   "source": [
    "import numpy as np\n",
    "import matplotlib.pyplot as plt\n",
    "\n",
    "fig, figure1 = plt.subplots(figsize = (12, 6))\n",
    "\n",
    "nums = np.linspace(0.0, 7.0, 1500)\n",
    "\n",
    "figure1.plot(nums, nums**2, label=\"$n^2$\")\n",
    "\n",
    "figure1.plot(nums, 2**nums, label=\"$2^n$\")\n",
    "\n",
    "figure1.legend()\n",
    "\n",
    "plt.show();"
   ]
  },
  {
   "cell_type": "markdown",
   "metadata": {},
   "source": [
    "https://github.com/ianmcloughlin/2223-S1-emerging-technologies/blob/main/notebooks/03-computation.ipynb"
   ]
  },
  {
   "cell_type": "markdown",
   "metadata": {},
   "source": [
    "***\n",
    "\n",
    "## Big O Notation\n",
    "\n",
    "***"
   ]
  },
  {
   "cell_type": "markdown",
   "metadata": {},
   "source": []
  },
  {
   "cell_type": "markdown",
   "metadata": {},
   "source": [
    "***\n",
    "\n",
    "## Turing Machines\n",
    "\n",
    "***"
   ]
  },
  {
   "cell_type": "markdown",
   "metadata": {},
   "source": []
  },
  {
   "cell_type": "markdown",
   "metadata": {},
   "source": [
    "***\n",
    "\n",
    "## Exercise\n",
    "\n",
    "***"
   ]
  },
  {
   "cell_type": "markdown",
   "metadata": {},
   "source": []
  }
 ],
 "metadata": {
  "kernelspec": {
   "display_name": "Python 3 (ipykernel)",
   "language": "python",
   "name": "python3"
  },
  "language_info": {
   "codemirror_mode": {
    "name": "ipython",
    "version": 3
   },
   "file_extension": ".py",
   "mimetype": "text/x-python",
   "name": "python",
   "nbconvert_exporter": "python",
   "pygments_lexer": "ipython3",
   "version": "3.9.7"
  }
 },
 "nbformat": 4,
 "nbformat_minor": 4
}
