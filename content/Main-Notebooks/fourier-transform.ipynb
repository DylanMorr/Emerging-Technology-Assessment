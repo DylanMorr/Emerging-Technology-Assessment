{
 "cells": [
  {
   "cell_type": "markdown",
   "metadata": {},
   "source": [
    "# Fourier Transform\n",
    "\n",
    "<br>\n",
    "\n",
    "***"
   ]
  },
  {
   "cell_type": "markdown",
   "metadata": {},
   "source": [
    "## Introduction to Fourier Transform\n",
    "\n",
    "***"
   ]
  },
  {
   "cell_type": "markdown",
   "metadata": {},
   "source": [
    "In this notebook I am going to explore Fast Fourier Transform, the topics I will look at are:\n",
    "<ol>\n",
    "  <li>Definition & Uses</li>\n",
    "  <li>Complex Numbers</li>\n",
    "  <li>Plotting Parabolas</li>\n",
    "  <li>Quadratic Formula</li>\n",
    "  <li>Discrete Fourier Transform</li>\n",
    "  <li>Inverse Fourier Transform</li>\n",
    "  <li>SciPy Documentatation Examples</li>\n",
    "</ol>"
   ]
  },
  {
   "cell_type": "markdown",
   "metadata": {},
   "source": [
    "***\n",
    "\n",
    "## Definition & Uses\n",
    "\n",
    "***"
   ]
  },
  {
   "cell_type": "markdown",
   "metadata": {},
   "source": [
    "Fourier transform is a mathematical transform that breaks down functions into frequency components. Once broken down they become \"represented by the output of the transform as a function of frequency\". Time and space functions are among the most common transformed functions, through a process called analysis they output a function depending on temporal or spatial frequency. The idea behind Fourier Transform came from a man called Jean-Baptiste Joseph Fourier in 1822. He initially said that \"any function whether continuous or discontinuous, can be expanded into a series of sines\". This work became the foundation of what was to become the Fourier transform after some corrections and expanding by others."
   ]
  },
  {
   "cell_type": "markdown",
   "metadata": {},
   "source": [
    "#### Uses\n",
    "- Processing pixelated images - Using the fourier transform to interpolate functions and smooth out signals, the high spatial frequency edges of pixels can be dealt with using a two-dimensional fourier transform. - https://www.sciencedirect.com/topics/chemistry/fourier-transform#:~:text=The%20Fourier%20transform%20can%20be,a%20two%2Ddimensional%20Fourier%20transform\n",
    "- Orbitrap (Mass Spectrometry) - Orbitrap is an \"ion trap mass analyzer\" made of an outer barrel and an inner spindle. Both of these act as electrodes and trap ions around the spindle. Once the ions are trapped they create an image current which is translated to a mass spectrum using Fourier transform of the signal. - https://en.wikipedia.org/wiki/Orbitrap\n",
    "- It can also be used for analysing different equations and quantum mechanics."
   ]
  },
  {
   "cell_type": "markdown",
   "metadata": {},
   "source": [
    "***\n",
    "\n",
    "## Complex Numbers\n",
    "\n",
    "***"
   ]
  },
  {
   "cell_type": "markdown",
   "metadata": {},
   "source": [
    "Complex numbers are numbers that are made up of a real part and a made up part. They are written in the form a + bi, where a is the real part and b is the made up part. The letter i represents the square root of -1. An example of a complex number would be -4 + 0i, here the number -4 is the real part, 0 is made up and i again represents the square root of -1. We can use all the standard mathematical operations with complex number, such as adding subtracting etc. Complex numbers have many different applications such as signal processing, electromagnetism and quantum mechanics.\n",
    "\n",
    "https://en.wikipedia.org/wiki/Complex_number#Applications"
   ]
  },
  {
   "cell_type": "markdown",
   "metadata": {},
   "source": [
    "When it comes to Fourier transform, complex numbers are often used because they allow for a more concise and computationally efficient overview of sinusoidal functions. These functions are important in many different applications of the Fourier transform. The sinusoidal function can be written as follows: y(t) = A * sin(2 * pi * f * t), where A is the amplitude of the sinusoid, f is the frequency, and t is time. This function represents a wave that oscillated at a constant frequency and amplitude."
   ]
  },
  {
   "cell_type": "markdown",
   "metadata": {},
   "source": [
    "Complex numbers also allow us to represent both the magnitude and phase of each frequency component in a single number. This is useful as the magnitude of the frequency component lets us know how much of that frequency is present in the original signal, and the phase lets us know the sinusoid has shifted in time."
   ]
  },
  {
   "cell_type": "markdown",
   "metadata": {},
   "source": [
    "An example of this is, if we take the complex number z = a + bi, where a and b are real numbers. We can say that a represents the magnitude of the sinusoid and b is the phase shift. This allows us to display the sinusoidal function y(t) = A * sin(2 * pi * f * t) as a single complex number, rather than having two separate values. \n",
    "\n",
    "https://en.wikipedia.org/wiki/Fourier_transform"
   ]
  },
  {
   "cell_type": "markdown",
   "metadata": {},
   "source": [
    "#### Complex Number Examples in Python"
   ]
  },
  {
   "cell_type": "code",
   "execution_count": 1,
   "metadata": {},
   "outputs": [
    {
     "data": {
      "text/plain": [
       "(3, 7)"
      ]
     },
     "execution_count": 1,
     "metadata": {},
     "output_type": "execute_result"
    }
   ],
   "source": [
    "# A tuple of length 2. \n",
    "x = (3, 7) \n",
    "x"
   ]
  },
  {
   "cell_type": "code",
   "execution_count": 2,
   "metadata": {},
   "outputs": [
    {
     "data": {
      "text/plain": [
       "(-2, 5)"
      ]
     },
     "execution_count": 2,
     "metadata": {},
     "output_type": "execute_result"
    }
   ],
   "source": [
    "# A tuple of length 2. \n",
    "y = (-2, 5) \n",
    "y"
   ]
  },
  {
   "cell_type": "code",
   "execution_count": 3,
   "metadata": {},
   "outputs": [],
   "source": [
    "# Addition. \n",
    "def add(x, y): \n",
    "    return (x[0] + y[0], x[1]+ y[1])"
   ]
  },
  {
   "cell_type": "code",
   "execution_count": 4,
   "metadata": {},
   "outputs": [
    {
     "data": {
      "text/plain": [
       "(1, 12)"
      ]
     },
     "execution_count": 4,
     "metadata": {},
     "output_type": "execute_result"
    }
   ],
   "source": [
    "# call function to add x and y\n",
    "add(x, y)"
   ]
  },
  {
   "cell_type": "code",
   "execution_count": 5,
   "metadata": {},
   "outputs": [],
   "source": [
    "# Multiplication. \n",
    "def mul(x, y): \n",
    "    a, b = x \n",
    "    c, d = y \n",
    "    return (a * c - b * d, a * d + b * c)"
   ]
  },
  {
   "cell_type": "code",
   "execution_count": 6,
   "metadata": {},
   "outputs": [
    {
     "data": {
      "text/plain": [
       "(-41, 1)"
      ]
     },
     "execution_count": 6,
     "metadata": {},
     "output_type": "execute_result"
    }
   ],
   "source": [
    "# call function to multiply x and y\n",
    "mul(x, y)"
   ]
  },
  {
   "cell_type": "code",
   "execution_count": 7,
   "metadata": {},
   "outputs": [
    {
     "data": {
      "text/plain": [
       "(1+12j)"
      ]
     },
     "execution_count": 7,
     "metadata": {},
     "output_type": "execute_result"
    }
   ],
   "source": [
    "# Addition using +. \n",
    "(3 + 7j) + (-2 + 5j)"
   ]
  },
  {
   "cell_type": "code",
   "execution_count": 8,
   "metadata": {},
   "outputs": [
    {
     "data": {
      "text/plain": [
       "(-41+1j)"
      ]
     },
     "execution_count": 8,
     "metadata": {},
     "output_type": "execute_result"
    }
   ],
   "source": [
    "# Multiplication using *. \n",
    "(3 + 7j) * (-2 + 5j)"
   ]
  },
  {
   "cell_type": "code",
   "execution_count": 9,
   "metadata": {},
   "outputs": [
    {
     "data": {
      "text/plain": [
       "1j"
      ]
     },
     "execution_count": 9,
     "metadata": {},
     "output_type": "execute_result"
    }
   ],
   "source": [
    "# Can't just write j for a literal. \n",
    "1j"
   ]
  },
  {
   "cell_type": "code",
   "execution_count": 10,
   "metadata": {},
   "outputs": [],
   "source": [
    "# In Object Oriented form. \n",
    "class ComplexNums(): \n",
    "    def __init__(self, a, b): \n",
    "        self.a = a \n",
    "        self.b = b \n",
    "     \n",
    "    def __add__(self, other): \n",
    "        return ComplexNums(self.a + other.a, self.b + other.b) \n",
    "     \n",
    "    def __mul__(self, other): \n",
    "        a, b = self.a, self.b \n",
    "        c, d = other.a, other.b \n",
    "        return ComplexNums(a*c - b*d, a*d + b*c) \n",
    "     \n",
    "    def __repr__(self): \n",
    "        return f'ComplexNums({self.a}, {self.b})'"
   ]
  },
  {
   "cell_type": "code",
   "execution_count": 11,
   "metadata": {},
   "outputs": [
    {
     "data": {
      "text/plain": [
       "ComplexNums(3, 7)"
      ]
     },
     "execution_count": 11,
     "metadata": {},
     "output_type": "execute_result"
    }
   ],
   "source": [
    "# Create an instance  of the class\n",
    "ComplexNums(3, 7)"
   ]
  },
  {
   "cell_type": "code",
   "execution_count": 12,
   "metadata": {},
   "outputs": [
    {
     "data": {
      "text/plain": [
       "ComplexNums(-2, 5)"
      ]
     },
     "execution_count": 12,
     "metadata": {},
     "output_type": "execute_result"
    }
   ],
   "source": [
    "# Another instance. \n",
    "ComplexNums(-2, 5)"
   ]
  },
  {
   "cell_type": "code",
   "execution_count": 13,
   "metadata": {},
   "outputs": [
    {
     "data": {
      "text/plain": [
       "ComplexNums(1, 12)"
      ]
     },
     "execution_count": 13,
     "metadata": {},
     "output_type": "execute_result"
    }
   ],
   "source": [
    "# Overloading the + \n",
    "ComplexNums(3, 7) + ComplexNums(-2, 5)"
   ]
  },
  {
   "cell_type": "code",
   "execution_count": 14,
   "metadata": {},
   "outputs": [
    {
     "data": {
      "text/plain": [
       "ComplexNums(-41, 1)"
      ]
     },
     "execution_count": 14,
     "metadata": {},
     "output_type": "execute_result"
    }
   ],
   "source": [
    "# Overloading the * \n",
    "ComplexNums(3, 7) * ComplexNums(-2, 5)"
   ]
  },
  {
   "cell_type": "code",
   "execution_count": 15,
   "metadata": {},
   "outputs": [],
   "source": [
    "# Instances. \n",
    "x = ComplexNums(3, 7) \n",
    "y = ComplexNums(-2, 5)"
   ]
  },
  {
   "cell_type": "code",
   "execution_count": 16,
   "metadata": {},
   "outputs": [
    {
     "data": {
      "text/plain": [
       "ComplexNums(1, 12)"
      ]
     },
     "execution_count": 16,
     "metadata": {},
     "output_type": "execute_result"
    }
   ],
   "source": [
    "# add x and y points above\n",
    "x + y"
   ]
  },
  {
   "cell_type": "code",
   "execution_count": 17,
   "metadata": {},
   "outputs": [
    {
     "data": {
      "text/plain": [
       "ComplexNums(-41, 1)"
      ]
     },
     "execution_count": 17,
     "metadata": {},
     "output_type": "execute_result"
    }
   ],
   "source": [
    "# multiply x and y points above\n",
    "x * y"
   ]
  },
  {
   "cell_type": "markdown",
   "metadata": {},
   "source": [
    "Ref - https://github.com/ianmcloughlin/2223-S1-emerging-technologies/blob/main/notebooks/04-fourier-transform.ipynb"
   ]
  },
  {
   "cell_type": "markdown",
   "metadata": {},
   "source": [
    "***\n",
    "\n",
    "## Plotting Parabolas\n",
    "\n",
    "***"
   ]
  },
  {
   "cell_type": "markdown",
   "metadata": {},
   "source": []
  },
  {
   "cell_type": "markdown",
   "metadata": {},
   "source": [
    "***\n",
    "\n",
    "## Quadratic Formula\n",
    "\n",
    "***"
   ]
  },
  {
   "cell_type": "markdown",
   "metadata": {},
   "source": []
  },
  {
   "cell_type": "markdown",
   "metadata": {},
   "source": [
    "***\n",
    "\n",
    "## Discrete Fourier Transform\n",
    "\n",
    "***"
   ]
  },
  {
   "cell_type": "code",
   "execution_count": null,
   "metadata": {},
   "outputs": [],
   "source": []
  },
  {
   "cell_type": "markdown",
   "metadata": {},
   "source": [
    "***\n",
    "\n",
    "## Inverse Fourier Transform\n",
    "\n",
    "***"
   ]
  },
  {
   "cell_type": "code",
   "execution_count": null,
   "metadata": {},
   "outputs": [],
   "source": []
  },
  {
   "cell_type": "markdown",
   "metadata": {},
   "source": [
    "***\n",
    "\n",
    "## SciPy Documentatation Examples\n",
    "\n",
    "***"
   ]
  }
 ],
 "metadata": {
  "kernelspec": {
   "display_name": "Python 3 (ipykernel)",
   "language": "python",
   "name": "python3"
  },
  "language_info": {
   "codemirror_mode": {
    "name": "ipython",
    "version": 3
   },
   "file_extension": ".py",
   "mimetype": "text/x-python",
   "name": "python",
   "nbconvert_exporter": "python",
   "pygments_lexer": "ipython3",
   "version": "3.9.7"
  }
 },
 "nbformat": 4,
 "nbformat_minor": 4
}
