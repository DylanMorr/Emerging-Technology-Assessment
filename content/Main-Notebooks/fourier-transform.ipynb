{
 "cells": [
  {
   "cell_type": "markdown",
   "metadata": {},
   "source": [
    "# Fourier Transform\n",
    "\n",
    "<br>\n",
    "\n",
    "***"
   ]
  },
  {
   "cell_type": "markdown",
   "metadata": {},
   "source": [
    "## Introduction to Fourier Transform\n",
    "\n",
    "***"
   ]
  },
  {
   "cell_type": "markdown",
   "metadata": {},
   "source": [
    "In this notebook I am going to explore Fast Fourier Transform, the topics I will look at are:\n",
    "<ol>\n",
    "  <li>Definition & Uses</li>\n",
    "  <li>Complex Numbers</li>\n",
    "  <li>Plotting Parabolas</li>\n",
    "  <li>Quadratic Formula</li>\n",
    "  <li>Discrete Fourier Transform</li>\n",
    "  <li>Inverse Fourier Transform</li>\n",
    "  <li>SciPy Documentatation Examples</li>\n",
    "</ol>"
   ]
  },
  {
   "cell_type": "markdown",
   "metadata": {},
   "source": [
    "***\n",
    "\n",
    "## Definition & Uses\n",
    "\n",
    "***"
   ]
  },
  {
   "cell_type": "markdown",
   "metadata": {},
   "source": [
    "Fourier transform is a mathematical transform that breaks down functions into frequency components. Once broken down they become \"represented by the output of the transform as a function of frequency\". Time and space functions are among the most common transformed functions, through a process called analysis they output a function depending on temporal or spatial frequency. The idea behind Fourier Transform came from a man called Jean-Baptiste Joseph Fourier in 1822. He initially said that \"any function whether continuous or discontinuous, can be expanded into a series of sines\". This work became the foundation of what was to become the Fourier transform after some corrections and expanding by others."
   ]
  },
  {
   "cell_type": "markdown",
   "metadata": {},
   "source": [
    "#### Uses\n",
    "- Processing pixelated images - Using the fourier transform to interpolate functions and smooth out signals, the high spatial frequency edges of pixels can be dealt with using a two-dimensional fourier transform. - https://www.sciencedirect.com/topics/chemistry/fourier-transform#:~:text=The%20Fourier%20transform%20can%20be,a%20two%2Ddimensional%20Fourier%20transform\n",
    "- Orbitrap (Mass Spectrometry) - Orbitrap is an \"ion trap mass analyzer\" made of an outer barrel and an inner spindle. Both of these act as electrodes and trap ions around the spindle. Once the ions are trapped they create an image current which is translated to a mass spectrum using Fourier transform of the signal. - https://en.wikipedia.org/wiki/Orbitrap\n",
    "- It can also be used for analysing different equations and quantum mechanics."
   ]
  },
  {
   "cell_type": "markdown",
   "metadata": {},
   "source": [
    "***\n",
    "\n",
    "## Complex Numbers\n",
    "\n",
    "***"
   ]
  },
  {
   "cell_type": "markdown",
   "metadata": {},
   "source": [
    "Complex numbers are numbers that are made up of a real part and a made up part. They are written in the form a + bi, where a is the real part and b is the made up part. The letter i represents the square root of -1. An example of a complex number would be -4 + 0i, here the number -4 is the real part, 0 is made up and i again represents the square root of -1. We can use all the standard mathematical operations with complex number, such as adding subtracting etc. Complex numbers have many different applications such as signal processing, electromagnetism and quantum mechanics.\n",
    "\n",
    "https://en.wikipedia.org/wiki/Complex_number#Applications"
   ]
  },
  {
   "cell_type": "markdown",
   "metadata": {},
   "source": [
    "When it comes to Fourier transform, complex numbers are often used because they allow for a more concise and computationally efficient overview of sinusoidal functions. These functions are important in many different applications of the Fourier transform. The sinusoidal function can be written as follows: y(t) = A * sin(2 * pi * f * t), where A is the amplitude of the sinusoid, f is the frequency, and t is time. This function represents a wave that oscillated at a constant frequency and amplitude."
   ]
  },
  {
   "cell_type": "markdown",
   "metadata": {},
   "source": [
    "Complex numbers also allow us to represent both the magnitude and phase of each frequency component in a single number. This is useful as the magnitude of the frequency component lets us know how much of that frequency is present in the original signal, and the phase lets us know the sinusoid has shifted in time."
   ]
  },
  {
   "cell_type": "markdown",
   "metadata": {},
   "source": [
    "An example of this is, if we take the complex number z = a + bi, where a and b are real numbers. We can say that a represents the magnitude of the sinusoid and b is the phase shift. This allows us to display the sinusoidal function y(t) = A * sin(2 * pi * f * t) as a single complex number, rather than having two separate values. \n",
    "\n",
    "https://en.wikipedia.org/wiki/Fourier_transform"
   ]
  },
  {
   "cell_type": "markdown",
   "metadata": {},
   "source": [
    "#### Complex Number Examples in Python"
   ]
  },
  {
   "cell_type": "code",
   "execution_count": 1,
   "metadata": {},
   "outputs": [
    {
     "data": {
      "text/plain": [
       "(3, 7)"
      ]
     },
     "execution_count": 1,
     "metadata": {},
     "output_type": "execute_result"
    }
   ],
   "source": [
    "# A tuple of length 2. \n",
    "x = (3, 7) \n",
    "x"
   ]
  },
  {
   "cell_type": "code",
   "execution_count": 2,
   "metadata": {},
   "outputs": [
    {
     "data": {
      "text/plain": [
       "(-2, 5)"
      ]
     },
     "execution_count": 2,
     "metadata": {},
     "output_type": "execute_result"
    }
   ],
   "source": [
    "# A tuple of length 2. \n",
    "y = (-2, 5) \n",
    "y"
   ]
  },
  {
   "cell_type": "code",
   "execution_count": 3,
   "metadata": {},
   "outputs": [],
   "source": [
    "# Addition. \n",
    "def add(x, y): \n",
    "    return (x[0] + y[0], x[1]+ y[1])"
   ]
  },
  {
   "cell_type": "code",
   "execution_count": 4,
   "metadata": {},
   "outputs": [
    {
     "data": {
      "text/plain": [
       "(1, 12)"
      ]
     },
     "execution_count": 4,
     "metadata": {},
     "output_type": "execute_result"
    }
   ],
   "source": [
    "# call function to add x and y\n",
    "add(x, y)"
   ]
  },
  {
   "cell_type": "code",
   "execution_count": 5,
   "metadata": {},
   "outputs": [],
   "source": [
    "# Multiplication. \n",
    "def mul(x, y): \n",
    "    a, b = x \n",
    "    c, d = y \n",
    "    return (a * c - b * d, a * d + b * c)"
   ]
  },
  {
   "cell_type": "code",
   "execution_count": 6,
   "metadata": {},
   "outputs": [
    {
     "data": {
      "text/plain": [
       "(-41, 1)"
      ]
     },
     "execution_count": 6,
     "metadata": {},
     "output_type": "execute_result"
    }
   ],
   "source": [
    "# call function to multiply x and y\n",
    "mul(x, y)"
   ]
  },
  {
   "cell_type": "code",
   "execution_count": 7,
   "metadata": {},
   "outputs": [
    {
     "data": {
      "text/plain": [
       "(1+12j)"
      ]
     },
     "execution_count": 7,
     "metadata": {},
     "output_type": "execute_result"
    }
   ],
   "source": [
    "# Addition using +. \n",
    "(3 + 7j) + (-2 + 5j)"
   ]
  },
  {
   "cell_type": "code",
   "execution_count": 8,
   "metadata": {},
   "outputs": [
    {
     "data": {
      "text/plain": [
       "(-41+1j)"
      ]
     },
     "execution_count": 8,
     "metadata": {},
     "output_type": "execute_result"
    }
   ],
   "source": [
    "# Multiplication using *. \n",
    "(3 + 7j) * (-2 + 5j)"
   ]
  },
  {
   "cell_type": "code",
   "execution_count": 9,
   "metadata": {},
   "outputs": [
    {
     "data": {
      "text/plain": [
       "1j"
      ]
     },
     "execution_count": 9,
     "metadata": {},
     "output_type": "execute_result"
    }
   ],
   "source": [
    "# Can't just write j for a literal. \n",
    "1j"
   ]
  },
  {
   "cell_type": "code",
   "execution_count": 10,
   "metadata": {},
   "outputs": [],
   "source": [
    "# In Object Oriented form. \n",
    "class ComplexNums(): \n",
    "    def __init__(self, a, b): \n",
    "        self.a = a \n",
    "        self.b = b \n",
    "     \n",
    "    def __add__(self, other): \n",
    "        return ComplexNums(self.a + other.a, self.b + other.b) \n",
    "     \n",
    "    def __mul__(self, other): \n",
    "        a, b = self.a, self.b \n",
    "        c, d = other.a, other.b \n",
    "        return ComplexNums(a*c - b*d, a*d + b*c) \n",
    "     \n",
    "    def __repr__(self): \n",
    "        return f'ComplexNums({self.a}, {self.b})'"
   ]
  },
  {
   "cell_type": "code",
   "execution_count": 11,
   "metadata": {},
   "outputs": [
    {
     "data": {
      "text/plain": [
       "ComplexNums(3, 7)"
      ]
     },
     "execution_count": 11,
     "metadata": {},
     "output_type": "execute_result"
    }
   ],
   "source": [
    "# Create an instance  of the class\n",
    "ComplexNums(3, 7)"
   ]
  },
  {
   "cell_type": "code",
   "execution_count": 12,
   "metadata": {},
   "outputs": [
    {
     "data": {
      "text/plain": [
       "ComplexNums(-2, 5)"
      ]
     },
     "execution_count": 12,
     "metadata": {},
     "output_type": "execute_result"
    }
   ],
   "source": [
    "# Another instance. \n",
    "ComplexNums(-2, 5)"
   ]
  },
  {
   "cell_type": "code",
   "execution_count": 13,
   "metadata": {},
   "outputs": [
    {
     "data": {
      "text/plain": [
       "ComplexNums(1, 12)"
      ]
     },
     "execution_count": 13,
     "metadata": {},
     "output_type": "execute_result"
    }
   ],
   "source": [
    "# Overloading the + \n",
    "ComplexNums(3, 7) + ComplexNums(-2, 5)"
   ]
  },
  {
   "cell_type": "code",
   "execution_count": 14,
   "metadata": {},
   "outputs": [
    {
     "data": {
      "text/plain": [
       "ComplexNums(-41, 1)"
      ]
     },
     "execution_count": 14,
     "metadata": {},
     "output_type": "execute_result"
    }
   ],
   "source": [
    "# Overloading the * \n",
    "ComplexNums(3, 7) * ComplexNums(-2, 5)"
   ]
  },
  {
   "cell_type": "code",
   "execution_count": 15,
   "metadata": {},
   "outputs": [],
   "source": [
    "# Instances. \n",
    "x = ComplexNums(3, 7) \n",
    "y = ComplexNums(-2, 5)"
   ]
  },
  {
   "cell_type": "code",
   "execution_count": 16,
   "metadata": {},
   "outputs": [
    {
     "data": {
      "text/plain": [
       "ComplexNums(1, 12)"
      ]
     },
     "execution_count": 16,
     "metadata": {},
     "output_type": "execute_result"
    }
   ],
   "source": [
    "# add x and y points above\n",
    "x + y"
   ]
  },
  {
   "cell_type": "code",
   "execution_count": 17,
   "metadata": {},
   "outputs": [
    {
     "data": {
      "text/plain": [
       "ComplexNums(-41, 1)"
      ]
     },
     "execution_count": 17,
     "metadata": {},
     "output_type": "execute_result"
    }
   ],
   "source": [
    "# multiply x and y points above\n",
    "x * y"
   ]
  },
  {
   "cell_type": "markdown",
   "metadata": {},
   "source": [
    "Ref - https://github.com/ianmcloughlin/2223-S1-emerging-technologies/blob/main/notebooks/04-fourier-transform.ipynb"
   ]
  },
  {
   "cell_type": "markdown",
   "metadata": {},
   "source": [
    "***\n",
    "\n",
    "## Plotting Parabolas\n",
    "\n",
    "***"
   ]
  },
  {
   "cell_type": "markdown",
   "metadata": {},
   "source": [
    "A parabola is a curve that is defined using a quadratic equation. It is shaped like a U and has a single vertex. The standard quadratic formula is y = ax^2 + bx + c, where a, b, and c are constants. Another way of looking at them is a set of points that are equidistant from the focus and the directrix, which is a line. This means that for every point of the parabola, the distance between the point and the focus is the same as the distance between the point and the directrix."
   ]
  },
  {
   "cell_type": "markdown",
   "metadata": {},
   "source": [
    "Some of the properties of parabolas that make them useful for many applications are:\n",
    "- They are symmetric around their axis of symmetry, this is a line that divides the parabola into two mirror image halves.\n",
    "- They have a vertex which tells us the point at which the parabola is at its narrowest or widest.\n",
    "- The curve of the parabola can be defined using a fixed point called the focus, this can be used to get the focal length by measuring the distance between the focus and the vertex."
   ]
  },
  {
   "cell_type": "markdown",
   "metadata": {},
   "source": [
    "Parabolas are used in many different areas, such as engineering, mathematics, and physics. Some real world examples are modelling the trajectory of a projectile, like a ball going through the air or designing optical devices and mirrors.\n",
    "\n",
    "https://en.wikipedia.org/wiki/Parabola"
   ]
  },
  {
   "cell_type": "markdown",
   "metadata": {},
   "source": [
    "#### Examples of Plotted Parabolas"
   ]
  },
  {
   "cell_type": "code",
   "execution_count": 18,
   "metadata": {},
   "outputs": [],
   "source": [
    "# Plots. \n",
    "import matplotlib.pyplot as plt\n",
    "\n",
    "# Numerical arrays. \n",
    "import numpy as np"
   ]
  },
  {
   "cell_type": "code",
   "execution_count": 19,
   "metadata": {},
   "outputs": [
    {
     "data": {
      "image/png": "[encoded data removed]",
      "text/plain": [
       "<Figure size 720x432 with 1 Axes>"
      ]
     },
     "metadata": {
      "needs_background": "light"
     },
     "output_type": "display_data"
    }
   ],
   "source": [
    "# Range of x values. \n",
    "x = np.linspace(-6.0, 6.0, 1000)\n",
    "\n",
    "# Create figure. \n",
    "fig, ax = plt.subplots(figsize=(10,6))\n",
    "\n",
    "# Plot. \n",
    "ax.plot(x, x**2)\n",
    "\n",
    "# Plot x axis. \n",
    "ax.axhline(0.0, color='grey');"
   ]
  },
  {
   "cell_type": "code",
   "execution_count": 20,
   "metadata": {},
   "outputs": [
    {
     "data": {
      "image/png": "[encoded data removed]",
      "text/plain": [
       "<Figure size 720x432 with 1 Axes>"
      ]
     },
     "metadata": {
      "needs_background": "light"
     },
     "output_type": "display_data"
    }
   ],
   "source": [
    "# Range of x values.  \n",
    "x = np.linspace(-6.0, 6.0, 1000)\n",
    "\n",
    "# Create figure.  \n",
    "fig, ax = plt.subplots(figsize=(10,6))\n",
    "\n",
    "# Plot.  \n",
    "ax.plot(x, 2**x)\n",
    "\n",
    "# Plot x axis.  \n",
    "ax.axhline(0.0, color='grey');"
   ]
  },
  {
   "cell_type": "code",
   "execution_count": 21,
   "metadata": {},
   "outputs": [
    {
     "data": {
      "image/png": "[encoded data removed]",
      "text/plain": [
       "<Figure size 720x432 with 1 Axes>"
      ]
     },
     "metadata": {
      "needs_background": "light"
     },
     "output_type": "display_data"
    }
   ],
   "source": [
    "# Range of x values.  \n",
    "x = np.linspace(-6.0, 6.0, 1000)\n",
    "\n",
    "# Create figure.  \n",
    "fig, ax = plt.subplots(figsize=(10,6))\n",
    "\n",
    "# Plot.  \n",
    "ax.plot(x, 3*x**2 + 20)\n",
    "\n",
    "# Plot x axis.  \n",
    "ax.axhline(0.0, color='grey');"
   ]
  },
  {
   "cell_type": "code",
   "execution_count": 22,
   "metadata": {},
   "outputs": [
    {
     "data": {
      "image/png": "[encoded data removed]",
      "text/plain": [
       "<Figure size 720x432 with 1 Axes>"
      ]
     },
     "metadata": {
      "needs_background": "light"
     },
     "output_type": "display_data"
    }
   ],
   "source": [
    "# Range of x values.  \n",
    "x = np.linspace(-6.0, 6.0, 1000) \n",
    "# Create figure.  \n",
    "fig, ax = plt.subplots(figsize=(10,6)) \n",
    "# Plot.  \n",
    "ax.plot(x, -10*x**2 + 20*x - 6) \n",
    "# Plot x axis.  \n",
    "ax.axhline(0.0, color='grey');"
   ]
  },
  {
   "cell_type": "markdown",
   "metadata": {},
   "source": [
    "***\n",
    "\n",
    "## Quadratic Formula\n",
    "\n",
    "***"
   ]
  },
  {
   "cell_type": "markdown",
   "metadata": {},
   "source": [
    "$ f(x) = a x^2 + b x + c$\n",
    "<br>\n",
    "$ f(x) = 0 \\Rightarrow x = \\frac{-b \\pm \\sqrt{b^2 - 4ac}}{2a}$"
   ]
  },
  {
   "cell_type": "code",
   "execution_count": 23,
   "metadata": {},
   "outputs": [],
   "source": [
    "def formula(a, b, c): \n",
    "    undersqrt = (b**2 - 4 * a * c)**0.5 \n",
    "    return [(-b - undersqrt) / (2 * a), (-b + undersqrt) / (2 * a)]"
   ]
  },
  {
   "cell_type": "code",
   "execution_count": 24,
   "metadata": {},
   "outputs": [
    {
     "data": {
      "text/plain": [
       "[0.0, 0.0]"
      ]
     },
     "execution_count": 24,
     "metadata": {},
     "output_type": "execute_result"
    }
   ],
   "source": [
    "# y = x^2 \n",
    "formula(1, 0, 0)"
   ]
  },
  {
   "cell_type": "code",
   "execution_count": 25,
   "metadata": {},
   "outputs": [
    {
     "data": {
      "text/plain": [
       "[-2.0, 2.0]"
      ]
     },
     "execution_count": 25,
     "metadata": {},
     "output_type": "execute_result"
    }
   ],
   "source": [
    "# y = x^2 - 4 \n",
    "formula(1, 0, -4)"
   ]
  },
  {
   "cell_type": "code",
   "execution_count": 26,
   "metadata": {},
   "outputs": [
    {
     "data": {
      "text/plain": [
       "[(-1.2246467991473532e-16-2j), (1.2246467991473532e-16+2j)]"
      ]
     },
     "execution_count": 26,
     "metadata": {},
     "output_type": "execute_result"
    }
   ],
   "source": [
    "# y = x^2 + 4 \n",
    "formula(1, 0, 4)"
   ]
  },
  {
   "cell_type": "code",
   "execution_count": 27,
   "metadata": {},
   "outputs": [
    {
     "name": "stdout",
     "output_type": "stream",
     "text": [
      "-0.0-2.0j, 0.0+2.0j\n"
     ]
    }
   ],
   "source": [
    "# F strings. \n",
    "x_0, x_1 = formula(1, 0, 4) \n",
    "print(f'{x_0:.1f}, {x_1:.1f}')"
   ]
  },
  {
   "cell_type": "markdown",
   "metadata": {},
   "source": [
    "Ref - https://github.com/ianmcloughlin/2223-S1-emerging-technologies/blob/main/notebooks/04-fourier-transform.ipynb"
   ]
  },
  {
   "cell_type": "markdown",
   "metadata": {},
   "source": [
    "***\n",
    "\n",
    "## Discrete Fourier Transform\n",
    "\n",
    "***"
   ]
  },
  {
   "cell_type": "markdown",
   "metadata": {},
   "source": [
    "Discrete Fourier Transform or (DFT) is a mathematical operation that breaks down a finite sequence of equally spaced samples of a function into its individual frequency components. It is called discrete as it is a discrete version of the continuous Fourier transform which is used to break down continuous, infinitely long functions."
   ]
  },
  {
   "cell_type": "markdown",
   "metadata": {},
   "source": [
    "It can be further defined by the following:\n",
    "- Given a finite sequence x[n] of N equally spaced samples, the discrete Fourier transform X[k] of the sequence is shown by this formula:\n",
    "- X[k] = sum(x[n] * e^(-i * 2 * pi * k * n / N)), for n = 0, 1, ..., N-1\n",
    "- where i is the imaginary unit (i = sqrt(-1)), and k is the integer index ranging from 0 to N-1."
   ]
  },
  {
   "cell_type": "markdown",
   "metadata": {},
   "source": [
    "There is an inverse of the DFT too which is given by this formula:\n",
    "- x[n] = (1/N) * sum(X[k] * e^(i * 2 * pi * k * n / N)), for k = 0, 1, ..., N-1"
   ]
  },
  {
   "cell_type": "markdown",
   "metadata": {},
   "source": [
    "Examples of where DFT can be used it for analyzing and processing discrete time signals, like digital audio and image data. It shows these discrete time signals as a sum of sinusoids of different frequencies. This allows us to analyze the frequency content of the signal and allows for further filtering and modifying of the signal."
   ]
  },
  {
   "cell_type": "markdown",
   "metadata": {},
   "source": [
    "#### Examples of DFT in Python"
   ]
  },
  {
   "cell_type": "code",
   "execution_count": 28,
   "metadata": {},
   "outputs": [],
   "source": [
    "# Numerical arrays. \n",
    "import numpy as np\n",
    "\n",
    "# Fast Fourier transform. \n",
    "import scipy.fft as fft"
   ]
  },
  {
   "cell_type": "code",
   "execution_count": 29,
   "metadata": {},
   "outputs": [
    {
     "data": {
      "text/plain": [
       "array([ 1. ,  2. ,  1. , -1. ,  1.5])"
      ]
     },
     "execution_count": 29,
     "metadata": {},
     "output_type": "execute_result"
    }
   ],
   "source": [
    "# Create a test array. \n",
    "x = np.array([1.0, 2.0, 1.0, -1.0, 1.5]) \n",
    "x"
   ]
  },
  {
   "cell_type": "code",
   "execution_count": 30,
   "metadata": {},
   "outputs": [
    {
     "data": {
      "text/plain": [
       "array([ 4.5       -0.j        ,  2.08155948-1.65109876j,\n",
       "       -1.83155948+1.60822041j, -1.83155948-1.60822041j,\n",
       "        2.08155948+1.65109876j])"
      ]
     },
     "execution_count": 30,
     "metadata": {},
     "output_type": "execute_result"
    }
   ],
   "source": [
    "# Apply the fast Fourier transform to x. \n",
    "y = fft.fft(x) \n",
    "y"
   ]
  },
  {
   "cell_type": "markdown",
   "metadata": {},
   "source": [
    "***\n",
    "\n",
    "## Inverse Fourier Transform\n",
    "\n",
    "***"
   ]
  },
  {
   "cell_type": "markdown",
   "metadata": {},
   "source": [
    "The inverse Fourier Transform is a mathematical operation that takes in a function into the frequency domain and converts it back into a function in the time domain. This means it is the inverse of the Fourier transform, which decomposes a function into its individual frequency."
   ]
  },
  {
   "cell_type": "markdown",
   "metadata": {},
   "source": [
    "To define it further we can do as follows:\n",
    "- Given the function X(f) in the frequency domain, the inverse Fourier transform x(t) of the function is given by the following formula:\n",
    "- x(t) = (1/2pi) * integral(X(f) * e^(i2pif*t), for all t)\n",
    "- where i is the imaginary unit (i = sqrt(-1)), and the integral is taken over all values of f."
   ]
  },
  {
   "cell_type": "markdown",
   "metadata": {},
   "source": [
    "The inverse Fourier transform is a very powerful tool in the frequency domain and can be used for actions such as, representing a function as a sum of sinusoids of different frequencies, this can then be used to analyze the frequency content of the signal and for filtering or modifying the signal.\n",
    "\n",
    "https://en.wikipedia.org/wiki/Fourier_transform"
   ]
  },
  {
   "cell_type": "markdown",
   "metadata": {},
   "source": [
    "#### Example of IFT in Python"
   ]
  },
  {
   "cell_type": "code",
   "execution_count": 31,
   "metadata": {},
   "outputs": [],
   "source": [
    "# Numerical arrays. \n",
    "import numpy as np\n",
    "\n",
    "# Fast Fourier transform. \n",
    "import scipy.fft as fft"
   ]
  },
  {
   "cell_type": "code",
   "execution_count": 32,
   "metadata": {},
   "outputs": [],
   "source": [
    "# Create a test array. \n",
    "x = np.array([1.0, 2.0, 1.0, -1.0, 1.5]) \n",
    "\n",
    "# Apply the fast Fourier transform to x to get y \n",
    "y = fft.fft(x)"
   ]
  },
  {
   "cell_type": "code",
   "execution_count": 33,
   "metadata": {},
   "outputs": [
    {
     "data": {
      "text/plain": [
       "array([ 1. +0.j,  2. +0.j,  1. +0.j, -1. +0.j,  1.5+0.j])"
      ]
     },
     "execution_count": 33,
     "metadata": {},
     "output_type": "execute_result"
    }
   ],
   "source": [
    "# Invert the previous Fourier transform applied to x. \n",
    "yinv = fft.ifft(y) \n",
    "yinv"
   ]
  },
  {
   "cell_type": "code",
   "execution_count": 34,
   "metadata": {},
   "outputs": [
    {
     "data": {
      "text/plain": [
       "array([False,  True,  True,  True,  True])"
      ]
     },
     "execution_count": 34,
     "metadata": {},
     "output_type": "execute_result"
    }
   ],
   "source": [
    "# expect x and yinv equal\n",
    "x == yinv"
   ]
  },
  {
   "cell_type": "markdown",
   "metadata": {},
   "source": [
    "Returns a strange first value"
   ]
  },
  {
   "cell_type": "code",
   "execution_count": 35,
   "metadata": {},
   "outputs": [
    {
     "data": {
      "text/plain": [
       "1.0"
      ]
     },
     "execution_count": 35,
     "metadata": {},
     "output_type": "execute_result"
    }
   ],
   "source": [
    "x[0]"
   ]
  },
  {
   "cell_type": "code",
   "execution_count": 36,
   "metadata": {},
   "outputs": [
    {
     "data": {
      "text/plain": [
       "(1.0000000000000002+0j)"
      ]
     },
     "execution_count": 36,
     "metadata": {},
     "output_type": "execute_result"
    }
   ],
   "source": [
    "yinv[0]"
   ]
  },
  {
   "cell_type": "code",
   "execution_count": 37,
   "metadata": {},
   "outputs": [
    {
     "data": {
      "text/plain": [
       "array([ True,  True,  True,  True,  True])"
      ]
     },
     "execution_count": 37,
     "metadata": {},
     "output_type": "execute_result"
    }
   ],
   "source": [
    "# Adapted from: https://stackoverflow.com/a/39758154 \n",
    "np.isclose(x, yinv)"
   ]
  },
  {
   "cell_type": "markdown",
   "metadata": {},
   "source": [
    "***\n",
    "\n",
    "## SciPy Documentatation Examples\n",
    "\n",
    "***"
   ]
  },
  {
   "cell_type": "markdown",
   "metadata": {},
   "source": [
    "In this section I am going to explore some examples of expressing functions using Fourier transform along with the SciPy collection. "
   ]
  },
  {
   "cell_type": "code",
   "execution_count": 22,
   "metadata": {},
   "outputs": [],
   "source": [
    "from scipy.fft import fft, ifft, fftfreq, fftshift, dct, idct\n",
    "from scipy import signal\n",
    "import matplotlib.pyplot as plt\n",
    "import numpy as np"
   ]
  },
  {
   "cell_type": "markdown",
   "metadata": {},
   "source": [
    "##### Example 1\n",
    "The following example plots the Fast Fourier Transform of the sum of two sines"
   ]
  },
  {
   "cell_type": "code",
   "execution_count": 23,
   "metadata": {},
   "outputs": [
    {
     "data": {
      "image/png": "[encoded data removed]",
      "text/plain": [
       "<Figure size 432x288 with 1 Axes>"
      ]
     },
     "metadata": {
      "needs_background": "light"
     },
     "output_type": "display_data"
    }
   ],
   "source": [
    "# Number of sample points \n",
    "N = 600\n",
    "\n",
    "# sample spacing \n",
    "T = 1.0 / 800.0\n",
    "\n",
    "x = np.linspace(0.0, N*T, N, endpoint=False) \n",
    "y = np.sin(50.0 * 2.0*np.pi*x) + 0.5*np.sin(80.0 * 2.0*np.pi*x)\n",
    "\n",
    "yf = fft(y) \n",
    "xf = fftfreq(N, T)[:N//2]\n",
    "\n",
    "plt.plot(xf, 2.0/N * np.abs(yf[0:N//2]))\n",
    "\n",
    "plt.grid()\n",
    "\n",
    "plt.show()"
   ]
  },
  {
   "cell_type": "markdown",
   "metadata": {},
   "source": [
    "Ref - https://docs.scipy.org/doc/scipy/tutorial/fft.html#d-discrete-fourier-transforms"
   ]
  },
  {
   "cell_type": "markdown",
   "metadata": {},
   "source": [
    "##### Example 2\n",
    "This example shows the plotting of two complex exponentials using Fast Fourier Transform. In this diagram we can see an asymmetric spectrum."
   ]
  },
  {
   "cell_type": "code",
   "execution_count": 24,
   "metadata": {},
   "outputs": [
    {
     "data": {
      "image/png": "[encoded data removed]",
      "text/plain": [
       "<Figure size 432x288 with 1 Axes>"
      ]
     },
     "metadata": {
      "needs_background": "light"
     },
     "output_type": "display_data"
    }
   ],
   "source": [
    "# number of signal points \n",
    "N = 400\n",
    "\n",
    "# sample spacing \n",
    "T = 1.0 / 800.0\n",
    "\n",
    "x = np.linspace(0.0, N*T, N, endpoint=False) \n",
    "y = np.exp(50.0 * 1.j * 2.0*np.pi*x) + 0.5*np.exp(-80.0 * 1.j * 2.0*np.pi*x)\n",
    "\n",
    "yf = fft(y) \n",
    "xf = fftfreq(N, T) \n",
    "xf = fftshift(xf)\n",
    "\n",
    "yplot = fftshift(yf)\n",
    "\n",
    "plt.plot(xf, 1.0/N * np.abs(yplot))\n",
    "\n",
    "plt.grid()\n",
    "\n",
    "plt.show()"
   ]
  },
  {
   "cell_type": "markdown",
   "metadata": {},
   "source": [
    "Ref - https://docs.scipy.org/doc/scipy/tutorial/fft.html#d-discrete-fourier-transforms"
   ]
  },
  {
   "cell_type": "markdown",
   "metadata": {},
   "source": [
    "##### Example 3\n",
    "This example demonstrates DCT (Discrete Cosine Transform), DCT has a \"energy compaction property\" which allows for signals during the first few coefficients to have significant magnitude. This means that when other coefficients are zeroed out it causes a reconstruction error, this error can then be taking and used in \"lossy signal compression\". An example of where this is used is JPEG compression."
   ]
  },
  {
   "cell_type": "code",
   "execution_count": 25,
   "metadata": {},
   "outputs": [
    {
     "data": {
      "image/png": "[encoded data removed]",
      "text/plain": [
       "<Figure size 432x288 with 1 Axes>"
      ]
     },
     "metadata": {
      "needs_background": "light"
     },
     "output_type": "display_data"
    }
   ],
   "source": [
    "N = 100\n",
    "\n",
    "t = np.linspace(0,20,N, endpoint=False) \n",
    "x = np.exp(-t/3)*np.cos(2*t) \n",
    "y = dct(x, norm='ortho')\n",
    "\n",
    "window = np.zeros(N) \n",
    "window[:20] = 1\n",
    "\n",
    "yr = idct(y*window, norm='ortho')\n",
    "\n",
    "sum(abs(x-yr)**2) / sum(abs(x)**2)\n",
    "\n",
    "plt.plot(t, x, '-bx')\n",
    "\n",
    "plt.plot(t, yr, 'ro')\n",
    "\n",
    "window = np.zeros(N) \n",
    "window[:15] = 1\n",
    "\n",
    "yr = idct(y*window, norm='ortho')\n",
    "\n",
    "sum(abs(x-yr)**2) / sum(abs(x)**2)\n",
    "\n",
    "plt.plot(t, yr, 'g+')\n",
    "\n",
    "plt.legend(['x', '$x_{20}$', '$x_{15}$'])\n",
    "\n",
    "plt.grid()\n",
    "\n",
    "plt.show()"
   ]
  },
  {
   "cell_type": "markdown",
   "metadata": {},
   "source": [
    "Ref - https://docs.scipy.org/doc/scipy/tutorial/fft.html#d-discrete-fourier-transforms"
   ]
  },
  {
   "cell_type": "markdown",
   "metadata": {},
   "source": [
    "##### Example 4\n",
    "In this example we are going to explore signal processing using convolution with FFT. The example we will look at is \"Autocorrelation of white noise\". If we look at the diagrams we can see that the white noise function is an impulse at lag 0."
   ]
  },
  {
   "cell_type": "code",
   "execution_count": 26,
   "metadata": {},
   "outputs": [],
   "source": [
    "rng = np.random.default_rng() \n",
    "sig = rng.standard_normal(1000) \n",
    "autocorr = signal.fftconvolve(sig, sig[::-1], mode='full')"
   ]
  },
  {
   "cell_type": "code",
   "execution_count": 27,
   "metadata": {},
   "outputs": [
    {
     "data": {
      "image/png": "[encoded data removed]",
      "text/plain": [
       "<Figure size 432x288 with 2 Axes>"
      ]
     },
     "metadata": {
      "needs_background": "light"
     },
     "output_type": "display_data"
    }
   ],
   "source": [
    "fig, (ax_orig, ax_mag) = plt.subplots(2, 1) \n",
    "ax_orig.plot(sig) \n",
    "ax_orig.set_title('White noise') \n",
    "ax_mag.plot(np.arange(-len(sig)+1,len(sig)), autocorr) \n",
    "ax_mag.set_title('Autocorrelation') \n",
    "fig.tight_layout()"
   ]
  },
  {
   "cell_type": "markdown",
   "metadata": {},
   "source": [
    "Ref - https://docs.scipy.org/doc/scipy/reference/generated/scipy.signal.fftconvolve.html#scipy.signal.fftconvolve"
   ]
  },
  {
   "cell_type": "markdown",
   "metadata": {},
   "source": [
    "***\n",
    "\n",
    "## End of Notebook"
   ]
  }
 ],
 "metadata": {
  "kernelspec": {
   "display_name": "Python 3 (ipykernel)",
   "language": "python",
   "name": "python3"
  },
  "language_info": {
   "codemirror_mode": {
    "name": "ipython",
    "version": 3
   },
   "file_extension": ".py",
   "mimetype": "text/x-python",
   "name": "python",
   "nbconvert_exporter": "python",
   "pygments_lexer": "ipython3",
   "version": "3.9.7"
  }
 },
 "nbformat": 4,
 "nbformat_minor": 4
}
