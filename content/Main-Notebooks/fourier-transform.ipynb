{
 "cells": [
  {
   "cell_type": "markdown",
   "metadata": {},
   "source": [
    "# Fourier Transform\n",
    "\n",
    "<br>\n",
    "\n",
    "***"
   ]
  },
  {
   "cell_type": "markdown",
   "metadata": {},
   "source": [
    "## Introduction to Fourier Transform\n",
    "\n",
    "***"
   ]
  },
  {
   "cell_type": "markdown",
   "metadata": {},
   "source": [
    "In this notebook I am going to explore Fast Fourier Transform, the topics I will look at are:\n",
    "<ol>\n",
    "  <li>Definition & Uses</li>\n",
    "  <li>Complex Numbers</li>\n",
    "  <li>Plotting Parabolas</li>\n",
    "  <li>Quadratic Formula</li>\n",
    "  <li>Discrete Fourier Transform</li>\n",
    "  <li>Inverse Fourier Transform</li>\n",
    "  <li>SciPy Documentatation Examples</li>\n",
    "</ol>"
   ]
  },
  {
   "cell_type": "markdown",
   "metadata": {},
   "source": [
    "***\n",
    "\n",
    "## Definition & Uses\n",
    "\n",
    "***"
   ]
  },
  {
   "cell_type": "markdown",
   "metadata": {},
   "source": [
    "Fourier transform is a mathematical transform that breaks down functions into frequency components. Once broken down they become \"represented by the output of the transform as a function of frequency\". Time and space functions are among the most common transformed functions, through a process called analysis they output a function depending on temporal or spatial frequency. The idea behind Fourier Transform came from a man called Jean-Baptiste Joseph Fourier in 1822. He initially said that \"any function whether continuous or discontinuous, can be expanded into a series of sines\". This work became the foundation of what was to become the Fourier transform after some corrections and expanding by others."
   ]
  },
  {
   "cell_type": "markdown",
   "metadata": {},
   "source": [
    "#### Uses\n",
    "- Processing pixelated images - Using the fourier transform to interpolate functions and smooth out signals, the high spatial frequency edges of pixels can be dealt with using a two-dimensional fourier transform. - https://www.sciencedirect.com/topics/chemistry/fourier-transform#:~:text=The%20Fourier%20transform%20can%20be,a%20two%2Ddimensional%20Fourier%20transform\n",
    "- Orbitrap (Mass Spectrometry) - Orbitrap is an \"ion trap mass analyzer\" made of an outer barrel and an inner spindle. Both of these act as electrodes and trap ions around the spindle. Once the ions are trapped they create an image current which is translated to a mass spectrum using Fourier transform of the signal. - https://en.wikipedia.org/wiki/Orbitrap\n",
    "- It can also be used for analysing different equations and quantum mechanics."
   ]
  },
  {
   "cell_type": "markdown",
   "metadata": {},
   "source": [
    "***\n",
    "\n",
    "## Complex Numbers\n",
    "\n",
    "***"
   ]
  },
  {
   "cell_type": "markdown",
   "metadata": {},
   "source": []
  },
  {
   "cell_type": "markdown",
   "metadata": {},
   "source": [
    "***\n",
    "\n",
    "## Plotting Parabolas\n",
    "\n",
    "***"
   ]
  },
  {
   "cell_type": "markdown",
   "metadata": {},
   "source": []
  },
  {
   "cell_type": "markdown",
   "metadata": {},
   "source": [
    "***\n",
    "\n",
    "## Quadratic Formula\n",
    "\n",
    "***"
   ]
  },
  {
   "cell_type": "markdown",
   "metadata": {},
   "source": []
  },
  {
   "cell_type": "markdown",
   "metadata": {},
   "source": [
    "***\n",
    "\n",
    "## Discrete Fourier Transform\n",
    "\n",
    "***"
   ]
  },
  {
   "cell_type": "code",
   "execution_count": null,
   "metadata": {},
   "outputs": [],
   "source": []
  },
  {
   "cell_type": "markdown",
   "metadata": {},
   "source": [
    "***\n",
    "\n",
    "## Inverse Fourier Transform\n",
    "\n",
    "***"
   ]
  },
  {
   "cell_type": "code",
   "execution_count": null,
   "metadata": {},
   "outputs": [],
   "source": []
  },
  {
   "cell_type": "markdown",
   "metadata": {},
   "source": [
    "***\n",
    "\n",
    "## SciPy Documentatation Examples\n",
    "\n",
    "***"
   ]
  }
 ],
 "metadata": {
  "kernelspec": {
   "display_name": "Python 3 (ipykernel)",
   "language": "python",
   "name": "python3"
  },
  "language_info": {
   "codemirror_mode": {
    "name": "ipython",
    "version": 3
   },
   "file_extension": ".py",
   "mimetype": "text/x-python",
   "name": "python",
   "nbconvert_exporter": "python",
   "pygments_lexer": "ipython3",
   "version": "3.9.7"
  }
 },
 "nbformat": 4,
 "nbformat_minor": 4
}
