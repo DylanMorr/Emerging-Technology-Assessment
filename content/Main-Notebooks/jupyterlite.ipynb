{
 "cells": [
  {
   "cell_type": "markdown",
   "metadata": {},
   "source": [
    "# JupyterLite \n",
    "\n",
    "<br>\n",
    "\n",
    "***"
   ]
  },
  {
   "cell_type": "markdown",
   "metadata": {},
   "source": [
    "## Introduction to Fourier Transform\n",
    "\n",
    "***"
   ]
  },
  {
   "cell_type": "markdown",
   "metadata": {},
   "source": [
    "In this notebook I am going to briefly explore JupyterLite, the topics I will look at are:\n",
    "<ol>\n",
    "  <li>JupyterLite - What is it</li>\n",
    "  <li>How to setup and deploy JupyterLite in GitHub</li>\n",
    "</ol>"
   ]
  },
  {
   "cell_type": "markdown",
   "metadata": {},
   "source": [
    "***\n",
    "\n",
    "## JupyterLite - What is it\n",
    "\n",
    "***"
   ]
  },
  {
   "cell_type": "markdown",
   "metadata": {},
   "source": [
    "JupyterLite is a distribution by JupyterLab which is built from its extentions and components.  This distribution runs completely in the browser and it is showing how browser-based interactive computing can be achieved. Its aim is to prove that installing is not necessary in order to gain access to to a lightweight computing world. Clearly JupyterLite works with JupyterLab but it also works with RetroLab. It is easy to access and a website can be constructed using it in a few minutes.\n",
    "\n",
    "Ref - https://jupyterlite.readthedocs.io/en/latest/"
   ]
  },
  {
   "cell_type": "markdown",
   "metadata": {},
   "source": [
    "***\n",
    "\n",
    "## How to setup and deploy JupyterLite in GitHub\n",
    "\n",
    "***"
   ]
  },
  {
   "cell_type": "markdown",
   "metadata": {},
   "source": [
    "Setting up a GitHub pages repository can be confusing when you first try it. In this section I am going to create a small guide on what to do."
   ]
  },
  {
   "cell_type": "markdown",
   "metadata": {},
   "source": [
    "#### Step 1:\n",
    "- To get started head over to https://github.com/jupyterlite/demo \n",
    "- This is the official GitHub repo for JupyterLite and we are going to take the template from here\n",
    "- Just above the source files there is button that says 'Use this template', click on it and create a new repository with that in it. \n",
    "- When creating the repository you DO NOT need to include all branches"
   ]
  },
  {
   "cell_type": "markdown",
   "metadata": {},
   "source": [
    "#### Step 2:\n",
    "- Now that you have your new repository we can see that it comes pre-built with loads of different files and folders\n",
    "- You have to keep all of these files except for everything in the content folder, this is where you would insert your own Jupyter Notebooks etc\n",
    "- Next thing to do is to go into requirements.txt and edit it for the stuff you need \n",
    "- For example if you were starting fresh in the content folder, I would suggest commenting out the 'jupyterlite-xeus' packages and also stuff like the language packs if you don't require them."
   ]
  },
  {
   "cell_type": "markdown",
   "metadata": {},
   "source": [
    "#### Step 3\n",
    "- You will probably notice that the build for the repository has failed by the red 'X' on top of the source code\n",
    "- This is normal in a new repository and we need to go into the settings to fix it\n",
    "- Navigate to Settings -> Actions -> General, from here scroll to the bottom and make sure Workflow Permissions are set to Read And Write\n",
    "- Next Navigate to Settings -> Pages, we are now going to fix what it causing the build to fail\n",
    "- Click on the Source dropdown under Build and Development and select 'GitHub Actions', this means we are now building with GitHub actions and should fix our error"
   ]
  },
  {
   "cell_type": "markdown",
   "metadata": {},
   "source": [
    "#### Step 4\n",
    "- In order to check if our repo is fixed we need to commit something \n",
    "- We can quickly test this by editing the README file\n",
    "- Click on the edit button for the README and make some random change to the markdown file and commit the changes\n",
    "- Click back into the Code section and we will see the 'X' is now gone and the checks are running again \n",
    "- After a couple minutes refresh the page and you will see a green checkmark, this means the build was successful and we can now access our GitHub page"
   ]
  },
  {
   "cell_type": "markdown",
   "metadata": {},
   "source": [
    "#### Step 5\n",
    "- To access our new page we open a new tab and navigate to - user-name.github.io/repo-name\n",
    "- This link is set to this by default but can be edited in the settings if you want a custom domain\n",
    "- When we navigate to this page you are met with your very own JupyterLite instance \n",
    "- On the left hand side you will see the contents folder\n",
    "- From here you can open and view your notebooks and edit them"
   ]
  }
 ],
 "metadata": {
  "kernelspec": {
   "display_name": "Python 3 (ipykernel)",
   "language": "python",
   "name": "python3"
  },
  "language_info": {
   "codemirror_mode": {
    "name": "ipython",
    "version": 3
   },
   "file_extension": ".py",
   "mimetype": "text/x-python",
   "name": "python",
   "nbconvert_exporter": "python",
   "pygments_lexer": "ipython3",
   "version": "3.9.7"
  }
 },
 "nbformat": 4,
 "nbformat_minor": 4
}
