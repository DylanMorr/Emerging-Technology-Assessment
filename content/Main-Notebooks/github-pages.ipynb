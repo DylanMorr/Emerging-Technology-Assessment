{
 "cells": [
  {
   "cell_type": "markdown",
   "metadata": {},
   "source": [
    "# GitHub Pages and Actions\n",
    "\n",
    "<br>\n",
    "\n",
    "***"
   ]
  },
  {
   "cell_type": "markdown",
   "metadata": {},
   "source": [
    "## Introduction to GitHub Pages and Actions\n",
    "\n",
    "***"
   ]
  },
  {
   "cell_type": "markdown",
   "metadata": {},
   "source": [
    "In this notebook I am going to explore Github Pages, GitHub Actions and HTTP, the topics I will look at are:\n",
    "<ol>\n",
    "  <li>GitHub Pages</li>\n",
    "  <li>GitHub Actions</li>\n",
    "  <li>HTTP</li>\n",
    "  <li>HTTP Response & Requests</li>\n",
    "  <li>Static vs Dynamic Websites</li>\n",
    "  <li>Exercise 1 - What is a Server?</li>\n",
    "</ol>"
   ]
  },
  {
   "cell_type": "markdown",
   "metadata": {},
   "source": [
    "***\n",
    "\n",
    "## GitHub Pages\n",
    "\n",
    "***"
   ]
  },
  {
   "cell_type": "markdown",
   "metadata": {},
   "source": [
    "GitHub pages is a static site hosting service which enables you to host a website. It works by taking HTML, CSS and JavaScript files directly from a repository on GitHub and creates a website after running through these files. Any static file pushed to the repository can be published and personalised static files can be created. GitHub pages do have limitations and prohibitions in place for the sites created and content shared. No private information should be transferred on their sites and other examples include the prohibition of free-web hosting pages for any work area using commercial transactions or the providing of commercial software services. Limitation of usage are also in place. An example of this is that sites sized 1GB or over will not work or publish."
   ]
  },
  {
   "cell_type": "markdown",
   "metadata": {},
   "source": [
    "The types of sites on GitHub Pages can be split into three categories and these are project, user and organisation. Project sites differ slightly from the other two types as it is connected to, for example JavaScript or another specific project hosted on GitHub. However, this is different to organisation and user sites as they connect to a specific account on GitHub, as opposed to a certain project. These sites created can be publicly viewed and accessed online but organisation sites, if using GitHub Enterprise Cloud, can makes sites private if desired. These different categories of sites all differ in the way they must be published too. Only one user or organisation account can be used for each account. In order to create and publish a user site, a repository belonging to a personal account must be used. For an organisation account, the repository created must belong to an organisation."
   ]
  },
  {
   "cell_type": "markdown",
   "metadata": {},
   "source": [
    "***\n",
    "\n",
    "## GitHub Actions\n",
    "\n",
    "***"
   ]
  },
  {
   "cell_type": "markdown",
   "metadata": {},
   "source": [
    "GitHub actions are scripts which allows software workflows to be automated with CI/CD. You can test and build code coming directly from GitHub. By using GitHub Actions, users have a variety of functions or actions which they can use, for example branch management and reviewing code. Other actions include deploying a web service or even building a container. Actions can be combined and configured to achieve the services the user wishes to use. GitHub actions is extremely useful as all tools are combined together in order to automate the developing workflow."
   ]
  },
  {
   "cell_type": "markdown",
   "metadata": {},
   "source": [
    "There are many advantages to using GitHub Actions. These include, GitHub Actions can be used with many languages, some of these including Java, .NET, Python, Node.js and others. It has runners for all the main OS. Matrix workflows can test many operating systems at the same time, saving the user time. Live logs are available of the users workflow. "
   ]
  },
  {
   "cell_type": "markdown",
   "metadata": {},
   "source": [
    "***\n",
    "\n",
    "## HTTP\n",
    "\n",
    "***"
   ]
  },
  {
   "cell_type": "markdown",
   "metadata": {},
   "source": [
    "HTTP, or Hypertext transfer protocol, is used to get various resources, for example HTML documents. It provides the frameworks of every data exchange online. As it is a client-server protocol, it takes requests from a recipient which is commonly the web browser. This then uses various documents and other informative pieces found and compiles them together to create a new piece of work. (https://developer.mozilla.org/en-US/docs/Web/HTTP/Overview)"
   ]
  },
  {
   "cell_type": "markdown",
   "metadata": {},
   "source": [
    "The diagram below shows the workings of HTTP:"
   ]
  },
  {
   "cell_type": "markdown",
   "metadata": {},
   "source": [
    "<img src=\"https://www3.ntu.edu.sg/home/ehchua/programming/webprogramming/images/HTTP.png\" align=\"center\" width=\"550\"/>"
   ]
  },
  {
   "cell_type": "markdown",
   "metadata": {},
   "source": [
    "The HTTP protocol can be seen from this diagram as working on a request-response system. It is a client-server protocol and too is a stateless protocol, meaning that requests in the current moment do not know what requests before have included. The HTTP Clients are the Web Browser and then the HTTP Server is actually the Web Server. This diagram explains how the HTTP Clients send a request message to the HTTP server and in return, the HTTP server sends the HTTP Clients a response message. This is how this server system works. "
   ]
  },
  {
   "cell_type": "markdown",
   "metadata": {},
   "source": [
    "***\n",
    "\n",
    "## HTTP Response & Request\n",
    "\n",
    "***"
   ]
  },
  {
   "cell_type": "markdown",
   "metadata": {},
   "source": [
    "As stated above, HTTP works on a request-response system and essentially this works by the transferring of different messages between the clients and the server. Request messages, from the HTTP Clients, include this information and are formatted like this: "
   ]
  },
  {
   "cell_type": "markdown",
   "metadata": {},
   "source": [
    "<img src=\"https://www3.ntu.edu.sg/home/ehchua/programming/webprogramming/images/HTTP_RequestMessage.png\" align=\"center\" width=\"450\"/>"
   ]
  },
  {
   "cell_type": "markdown",
   "metadata": {},
   "source": [
    "Response messages, coming from the HTTP Server, differ slightly to the request messages but not by much: "
   ]
  },
  {
   "cell_type": "markdown",
   "metadata": {},
   "source": [
    "<img src=\"https://www3.ntu.edu.sg/home/ehchua/programming/webprogramming/images/HTTP_ResponseMessage.png\" align=\"center\" width=\"450\"/>"
   ]
  },
  {
   "cell_type": "markdown",
   "metadata": {},
   "source": [
    "There are many different types of requests and responses when using HTTP protocol and this is due to the fact of protocol defining a certain set of request methods. Below are examples of the POST method and the GET method, both including a request and response message."
   ]
  },
  {
   "cell_type": "markdown",
   "metadata": {},
   "source": [
    "#### Post Method"
   ]
  },
  {
   "cell_type": "markdown",
   "metadata": {},
   "source": []
  },
  {
   "cell_type": "markdown",
   "metadata": {},
   "source": [
    "#### Get Method"
   ]
  },
  {
   "cell_type": "markdown",
   "metadata": {},
   "source": []
  },
  {
   "cell_type": "markdown",
   "metadata": {},
   "source": []
  },
  {
   "cell_type": "markdown",
   "metadata": {},
   "source": []
  },
  {
   "cell_type": "markdown",
   "metadata": {},
   "source": [
    "***\n",
    "\n",
    "## Static vs Dynamic Websites\n",
    "\n",
    "***"
   ]
  },
  {
   "cell_type": "markdown",
   "metadata": {},
   "source": []
  },
  {
   "cell_type": "markdown",
   "metadata": {},
   "source": [
    "***\n",
    "\n",
    "## Exercise 1 - What is a Server?\n",
    "\n",
    "***"
   ]
  },
  {
   "cell_type": "markdown",
   "metadata": {},
   "source": []
  }
 ],
 "metadata": {
  "kernelspec": {
   "display_name": "Python 3 (ipykernel)",
   "language": "python",
   "name": "python3"
  },
  "language_info": {
   "codemirror_mode": {
    "name": "ipython",
    "version": 3
   },
   "file_extension": ".py",
   "mimetype": "text/x-python",
   "name": "python",
   "nbconvert_exporter": "python",
   "pygments_lexer": "ipython3",
   "version": "3.9.7"
  }
 },
 "nbformat": 4,
 "nbformat_minor": 4
}
